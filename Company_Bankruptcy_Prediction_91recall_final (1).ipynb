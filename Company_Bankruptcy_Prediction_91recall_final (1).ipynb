{
  "cells": [
    {
      "cell_type": "markdown",
      "metadata": {
        "_cell_guid": "b1076dfc-b9ad-4769-8c92-a6c4dae69d19",
        "_uuid": "8f2839f25d086af736a60e9eeb907d3b93b6e0e5",
        "papermill": {
          "duration": 0.022506,
          "end_time": "2021-03-17T01:37:05.506111",
          "exception": false,
          "start_time": "2021-03-17T01:37:05.483605",
          "status": "completed"
        },
        "tags": [],
        "id": "Op51uMuZVK9-"
      },
      "source": [
        "# <center>BankruptcyClassifier </center>\n",
        "<img src=\"https://www.popoptiq.com/wp-content/uploads/2018/06/business-man-watching-company-go-bankrupt-pop.jpg\"/>"
      ]
    },
    {
      "cell_type": "markdown",
      "source": [
        "\n"
      ],
      "metadata": {
        "id": "XZ23ACpfzsec"
      }
    },
    {
      "cell_type": "markdown",
      "metadata": {
        "papermill": {
          "duration": 0.022046,
          "end_time": "2021-03-17T01:37:05.593007",
          "exception": false,
          "start_time": "2021-03-17T01:37:05.570961",
          "status": "completed"
        },
        "tags": [],
        "id": "FJDjVGJ0VK-A"
      },
      "source": [
        "<a id=\"Task-Details\"></a>\n",
        "# Task Details\n",
        "Our top priority in this business problem is to identify companies in bankruptcy.\\\n",
        "What is Bankruptcy. Definition: When an organisation is unable to honour its financial obligations or make payment to its creditors, it files for bankruptcy. A petition is filed in the court for the same where all the outstanding debts of the company are measured and paid out if not in full from the company's assets.\n",
        "\n",
        "whether we can correctly predict which comapnies will face bankrptcy in the future. As described in the data section, the dataset contains:\n",
        "\n",
        "95 features (X1-X95, business regulations of Taiwan Stock Exchange)\n",
        "1 Vector of labels (This label contains the 0 and 1 if company bankrupt or not).\\\n",
        "Our aim in this project is to use these features to understand their impact/role on the selected models and how they can help us recognizing the companies that are close to bankrupcty. \n",
        "## Evaluation\n",
        "Evaluation using F1-Score.\n",
        "The F1-Score is defines as the harmonic mean between precision and recall:\n",
        "<img src=\"https://datascience103579984.files.wordpress.com/2019/04/capture4-17.png\"/>"
      ]
    },
    {
      "cell_type": "markdown",
      "source": [
        "Precision with example:  irl how they used. \n",
        "Recall with example:"
      ],
      "metadata": {
        "id": "pvTcDjTN4yUE"
      }
    },
    {
      "cell_type": "markdown",
      "metadata": {
        "papermill": {
          "duration": 0.020268,
          "end_time": "2021-03-17T01:37:05.634021",
          "exception": false,
          "start_time": "2021-03-17T01:37:05.613753",
          "status": "completed"
        },
        "tags": [],
        "id": "B95_2Jl_VK-B"
      },
      "source": [
        "<a id=\"Importing-Libraries\"></a>\n",
        "# Importing Libraries"
      ]
    },
    {
      "cell_type": "code",
      "source": [
        "pip install --upgrade scikit-learn\n"
      ],
      "metadata": {
        "colab": {
          "base_uri": "https://localhost:8080/"
        },
        "id": "1n_9p6zOXx57",
        "outputId": "7308a863-4c79-43c8-cb38-2d258dd6f6b9"
      },
      "execution_count": null,
      "outputs": [
        {
          "output_type": "stream",
          "name": "stdout",
          "text": [
            "Looking in indexes: https://pypi.org/simple, https://us-python.pkg.dev/colab-wheels/public/simple/\n",
            "Requirement already satisfied: scikit-learn in /usr/local/lib/python3.9/dist-packages (1.2.2)\n",
            "Requirement already satisfied: numpy>=1.17.3 in /usr/local/lib/python3.9/dist-packages (from scikit-learn) (1.22.4)\n",
            "Requirement already satisfied: scipy>=1.3.2 in /usr/local/lib/python3.9/dist-packages (from scikit-learn) (1.10.1)\n",
            "Requirement already satisfied: joblib>=1.1.1 in /usr/local/lib/python3.9/dist-packages (from scikit-learn) (1.2.0)\n",
            "Requirement already satisfied: threadpoolctl>=2.0.0 in /usr/local/lib/python3.9/dist-packages (from scikit-learn) (3.1.0)\n"
          ]
        }
      ]
    },
    {
      "cell_type": "code",
      "source": [
        "pip install shap     # shapy values ka library   wasnt available in colab so had to pip install"
      ],
      "metadata": {
        "colab": {
          "base_uri": "https://localhost:8080/"
        },
        "id": "cp8Tf5k8YOhS",
        "outputId": "1ac6e85e-b8d3-43ae-f75d-8e50bf63656e"
      },
      "execution_count": null,
      "outputs": [
        {
          "output_type": "stream",
          "name": "stdout",
          "text": [
            "Looking in indexes: https://pypi.org/simple, https://us-python.pkg.dev/colab-wheels/public/simple/\n",
            "Collecting shap\n",
            "  Downloading shap-0.41.0-cp39-cp39-manylinux_2_12_x86_64.manylinux2010_x86_64.whl (572 kB)\n",
            "\u001b[2K     \u001b[90m━━━━━━━━━━━━━━━━━━━━━━━━━━━━━━━━━━━━━━\u001b[0m \u001b[32m572.4/572.4 kB\u001b[0m \u001b[31m21.3 MB/s\u001b[0m eta \u001b[36m0:00:00\u001b[0m\n",
            "\u001b[?25hRequirement already satisfied: numba in /usr/local/lib/python3.9/dist-packages (from shap) (0.56.4)\n",
            "Requirement already satisfied: numpy in /usr/local/lib/python3.9/dist-packages (from shap) (1.22.4)\n",
            "Requirement already satisfied: scipy in /usr/local/lib/python3.9/dist-packages (from shap) (1.10.1)\n",
            "Requirement already satisfied: pandas in /usr/local/lib/python3.9/dist-packages (from shap) (1.5.3)\n",
            "Collecting slicer==0.0.7\n",
            "  Downloading slicer-0.0.7-py3-none-any.whl (14 kB)\n",
            "Requirement already satisfied: scikit-learn in /usr/local/lib/python3.9/dist-packages (from shap) (1.2.2)\n",
            "Requirement already satisfied: packaging>20.9 in /usr/local/lib/python3.9/dist-packages (from shap) (23.1)\n",
            "Requirement already satisfied: cloudpickle in /usr/local/lib/python3.9/dist-packages (from shap) (2.2.1)\n",
            "Requirement already satisfied: tqdm>4.25.0 in /usr/local/lib/python3.9/dist-packages (from shap) (4.65.0)\n",
            "Requirement already satisfied: llvmlite<0.40,>=0.39.0dev0 in /usr/local/lib/python3.9/dist-packages (from numba->shap) (0.39.1)\n",
            "Requirement already satisfied: setuptools in /usr/local/lib/python3.9/dist-packages (from numba->shap) (67.6.1)\n",
            "Requirement already satisfied: python-dateutil>=2.8.1 in /usr/local/lib/python3.9/dist-packages (from pandas->shap) (2.8.2)\n",
            "Requirement already satisfied: pytz>=2020.1 in /usr/local/lib/python3.9/dist-packages (from pandas->shap) (2022.7.1)\n",
            "Requirement already satisfied: joblib>=1.1.1 in /usr/local/lib/python3.9/dist-packages (from scikit-learn->shap) (1.2.0)\n",
            "Requirement already satisfied: threadpoolctl>=2.0.0 in /usr/local/lib/python3.9/dist-packages (from scikit-learn->shap) (3.1.0)\n",
            "Requirement already satisfied: six>=1.5 in /usr/local/lib/python3.9/dist-packages (from python-dateutil>=2.8.1->pandas->shap) (1.16.0)\n",
            "Installing collected packages: slicer, shap\n",
            "Successfully installed shap-0.41.0 slicer-0.0.7\n"
          ]
        }
      ]
    },
    {
      "cell_type": "code",
      "source": [
        "%pip install bayesian-optimization==1.4.1     # bayesian optimization hyperparameter tuning"
      ],
      "metadata": {
        "colab": {
          "base_uri": "https://localhost:8080/"
        },
        "id": "stLMdWPTYH4w",
        "outputId": "6ccc356c-6392-448b-e100-0cef8a3729a2"
      },
      "execution_count": null,
      "outputs": [
        {
          "output_type": "stream",
          "name": "stdout",
          "text": [
            "Looking in indexes: https://pypi.org/simple, https://us-python.pkg.dev/colab-wheels/public/simple/\n",
            "Collecting bayesian-optimization==1.4.1\n",
            "  Downloading bayesian_optimization-1.4.1-py3-none-any.whl (18 kB)\n",
            "Requirement already satisfied: scipy>=1.0.0 in /usr/local/lib/python3.9/dist-packages (from bayesian-optimization==1.4.1) (1.10.1)\n",
            "Requirement already satisfied: scikit-learn>=0.18.0 in /usr/local/lib/python3.9/dist-packages (from bayesian-optimization==1.4.1) (1.2.2)\n",
            "Requirement already satisfied: numpy>=1.9.0 in /usr/local/lib/python3.9/dist-packages (from bayesian-optimization==1.4.1) (1.22.4)\n",
            "Collecting colorama\n",
            "  Downloading colorama-0.4.6-py2.py3-none-any.whl (25 kB)\n",
            "Requirement already satisfied: joblib>=1.1.1 in /usr/local/lib/python3.9/dist-packages (from scikit-learn>=0.18.0->bayesian-optimization==1.4.1) (1.2.0)\n",
            "Requirement already satisfied: threadpoolctl>=2.0.0 in /usr/local/lib/python3.9/dist-packages (from scikit-learn>=0.18.0->bayesian-optimization==1.4.1) (3.1.0)\n",
            "\u001b[33mWARNING: The candidate selected for download or install is a yanked version: 'bayesian-optimization' candidate (version 1.4.1 at https://files.pythonhosted.org/packages/86/71/57ce5c1859e997b6a66fd368fcd940452032c7fb2208371117a693e5f70a/bayesian_optimization-1.4.1-py3-none-any.whl (from https://pypi.org/simple/bayesian-optimization/))\n",
            "Reason for being yanked: https://github.com/fmfn/BayesianOptimization/pull/388\u001b[0m\u001b[33m\n",
            "\u001b[0mInstalling collected packages: colorama, bayesian-optimization\n",
            "Successfully installed bayesian-optimization-1.4.1 colorama-0.4.6\n"
          ]
        }
      ]
    },
    {
      "cell_type": "code",
      "execution_count": null,
      "metadata": {
        "execution": {
          "iopub.execute_input": "2021-03-17T01:37:05.683469Z",
          "iopub.status.busy": "2021-03-17T01:37:05.682740Z",
          "iopub.status.idle": "2021-03-17T01:37:16.210745Z",
          "shell.execute_reply": "2021-03-17T01:37:16.211240Z"
        },
        "papermill": {
          "duration": 10.556945,
          "end_time": "2021-03-17T01:37:16.211609",
          "exception": false,
          "start_time": "2021-03-17T01:37:05.654664",
          "status": "completed"
        },
        "tags": [],
        "id": "zVYteP7sVK-B"
      },
      "outputs": [],
      "source": [
        "#Imports\n",
        "\n",
        "# Basic Imports \n",
        "import numpy as np\n",
        "import pandas as pd\n",
        "\n",
        "# Plotting      grapph making wale\n",
        "from matplotlib import pyplot\n",
        "import matplotlib.pyplot as plt\n",
        "import plotly.express as px\n",
        "import seaborn as sns\n",
        "%matplotlib inline\n",
        "\n",
        "# Preprocessing splitting the data, then we used KFold from model selection of sklearn\n",
        "from sklearn.model_selection import train_test_split, KFold\n",
        "from sklearn.preprocessing import LabelEncoder\n",
        "\n",
        "# Metrics   on the basis upon which we evaluate \n",
        "from sklearn.metrics import confusion_matrix\n",
        "from sklearn.metrics import ConfusionMatrixDisplay\n",
        "from sklearn.metrics import precision_recall_fscore_support\n",
        "from sklearn.metrics import classification_report,accuracy_score, recall_score, roc_auc_score, precision_score\n",
        "from sklearn.metrics import roc_curve, auc\n",
        "\n",
        "# ML Models\n",
        "from sklearn.linear_model import LogisticRegression\n",
        "from sklearn.ensemble import RandomForestClassifier\n",
        "import xgboost as xgb\n",
        "import lightgbm as lgb\n",
        "from lightgbm import LGBMClassifier \n",
        "\n",
        "# Hyperparameter Model Tuning \n",
        "from bayes_opt import BayesianOptimization\n",
        "\n",
        "# Feature Importance \n",
        "import shap\n",
        "\n",
        "# Ignore Warnings  so that the colab notebook looks neat\n",
        "import warnings\n",
        "warnings.filterwarnings('ignore')"
      ]
    },
    {
      "cell_type": "markdown",
      "metadata": {
        "papermill": {
          "duration": 0.021858,
          "end_time": "2021-03-17T01:37:16.255712",
          "exception": false,
          "start_time": "2021-03-17T01:37:16.233854",
          "status": "completed"
        },
        "tags": [],
        "id": "gSbD7D1DVK-E"
      },
      "source": [
        "\n",
        "## Context\n",
        "The data were collected from the Taiwan Economic Journal for the years 1999 to 2009. Company bankruptcy was defined based on the business regulations of the Taiwan Stock Exchange. Kaggle\n",
        "\n",
        "## Target\n",
        "Y - Bankrupt?: Class label: 0 - Not Bankrupt , 1 - Bankrupt\n",
        "\n",
        "## Attribute Information\n",
        "X1 - ROA(C) before interest and depreciation before interest: Return On Total Assets(C)  \n",
        "X2 - ROA(A) before interest and % after tax: Return On Total Assets(A)  \n",
        "X3 - ROA(B) before interest and depreciation after tax: Return On Total Assets(B)  \n",
        "X4 - Operating Gross Margin: Gross Profit/Net Sales  \n",
        "X5 - Realized Sales Gross Margin: Realized Gross Profit/Net Sales  \n",
        "X6 - Operating Profit Rate: Operating Income/Net Sales  \n",
        "X7 - Pre-tax net Interest Rate: Pre-Tax Income/Net Sales  \n",
        "X8 - After-tax net Interest Rate: Net Income/Net Sales  \n",
        "X9 - Non-industry income and expenditure/revenue: Net Non-operating Income Ratio  \n",
        "X10 - Continuous interest rate (after tax): Net Income-Exclude Disposal Gain or Loss/Net Sales  \n",
        "X11 - Operating Expense Rate: Operating Expenses/Net Sales  \n",
        "X12 - Research and development expense rate: (Research and Development Expenses)/Net Sales  \n",
        "X13 - Cash flow rate: Cash Flow from Operating/Current Liabilities  \n",
        "X14 - Interest-bearing debt interest rate: Interest-bearing Debt/Equity  \n",
        "X15 - Tax rate (A): Effective Tax Rate  \n",
        "X16 - Net Value Per Share (B): Book Value Per Share(B)  \n",
        "X17 - Net Value Per Share (A): Book Value Per Share(A)  \n",
        "X18 - Net Value Per Share (C): Book Value Per Share(C)  \n",
        "X19 - Persistent EPS in the Last Four Seasons: EPS-Net Income  \n",
        "X20 - Cash Flow Per Share  \n",
        "X21 - Revenue Per Share (Yuan ¥): Sales Per Share  \n",
        "X22 - Operating Profit Per Share (Yuan ¥): Operating Income Per Share  \n",
        "X23 - Per Share Net profit before tax (Yuan ¥): Pretax Income Per Share  \n",
        "X24 - Realized Sales Gross Profit Growth Rate  \n",
        "X25 - Operating Profit Growth Rate: Operating Income Growth  \n",
        "X26 - After-tax Net Profit Growth Rate: Net Income Growth  \n",
        "X27 - Regular Net Profit Growth Rate: Continuing Operating Income after Tax Growth  \n",
        "X28 - Continuous Net Profit Growth Rate: Net Income-Excluding Disposal Gain or Loss Growth  \n",
        "X29 - Total Asset Growth Rate: Total Asset Growth  \n",
        "X30 - Net Value Growth Rate: Total Equity Growth  \n",
        "X31 - Total Asset Return Growth Rate Ratio: Return on Total Asset Growth  \n",
        "X32 - Cash Reinvestment %: Cash Reinvestment Ratio  \n",
        "X33 - Current Ratio  \n",
        "X34 - Quick Ratio: Acid Test  \n",
        "X35 - Interest Expense Ratio: Interest Expenses/Total Revenue  \n",
        "X36 - Total debt/Total net worth: Total Liability/Equity Ratio  \n",
        "X37 - Debt ratio %: Liability/Total Assets  \n",
        "X38 - Net worth/Assets: Equity/Total Assets  \n",
        "X39 - Long-term fund suitability ratio (A): (Long-term Liability+Equity)/Fixed Assets  \n",
        "X40 - Borrowing dependency: Cost of Interest-bearing Debt  \n",
        "X41 - Contingent liabilities/Net worth: Contingent Liability/Equity  \n",
        "X42 - Operating profit/Paid-in capital: Operating Income/Capital  \n",
        "X43 - Net profit before tax/Paid-in capital: Pretax Income/Capital  \n",
        "X44 - Inventory and accounts receivable/Net value: (Inventory+Accounts Receivables)/Equity  \n",
        "X45 - Total Asset Turnover  \n",
        "X46 - Accounts Receivable Turnover  \n",
        "X47 - Average Collection Days: Days Receivable Outstanding  \n",
        "X48 - Inventory Turnover Rate (times)  \n",
        "X49 - Fixed Assets Turnover Frequency  \n",
        "X50 - Net Worth Turnover Rate (times): Equity Turnover  \n",
        "X51 - Revenue per person: Sales Per Employee  \n",
        "X52 - Operating profit per person: Operation Income Per Employee  \n",
        "X53 - Allocation rate per person: Fixed Assets Per Employee  \n",
        "X54 - Working Capital to Total Assets  \n",
        "X55 - Quick Assets/Total Assets  \n",
        "X56 - Current Assets/Total Assets  \n",
        "X57 - Cash/Total Assets  \n",
        "X58 - Quick Assets/Current Liability  \n",
        "X59 - Cash/Current Liability  \n",
        "X60 - Current Liability to Assets  \n",
        "X61 - Operating Funds to Liability  \n",
        "X62 - Inventory/Working Capital  \n",
        "X63 - Inventory/Current Liability  \n",
        "X64 - Current Liabilities/Liability  \n",
        "X65 - Working Capital/Equity  \n",
        "X66 - Current Liabilities/Equity  \n",
        "X67 - Long-term Liability to Current Assets  \n",
        "X68 - Retained Earnings to Total Assets  \n",
        "X69 - Total income/Total expense  \n",
        "X70 - Total expense/Assets  \n",
        "X71 - Current Asset Turnover Rate: Current Assets to Sales  \n",
        "X72 - Quick Asset Turnover Rate: Quick Assets to Sales  \n",
        "X73 - Working capitcal Turnover Rate: Working Capital to Sales  \n",
        "X74 - Cash Turnover Rate: Cash to Sales  \n",
        "X75 - Cash Flow to Sales  \n",
        "X76 - Fixed Assets to Assets  \n",
        "X77 - Current Liability to Liability  \n",
        "X78 - Current Liability to Equity  \n",
        "X79 - Equity to Long-term Liability  \n",
        "X80 - Cash Flow to Total Assets  \n",
        "X81 - Cash Flow to Liability  \n",
        "X82 - CFO to Assets  \n",
        "X83 - Cash Flow to Equity  \n",
        "X84 - Current Liability to Current Assets  \n",
        "X85 - Liability-Assets Flag: 1 if Total Liability exceeds Total Assets, 0 otherwise  \n",
        "X86 - Net Income to Total Assets  \n",
        "X87 - Total assets to GNP price  \n",
        "X88 - No-credit Interval  \n",
        "X89 - Gross Profit to Sales  \n",
        "X90 - Net Income to Stockholder's Equity  \n",
        "X91 - Liability to Equity  \n",
        "X92 - Degree of Financial Leverage (DFL)  \n",
        "X93 - Interest Coverage Ratio (Interest expense to EBIT)  \n",
        "X94 - Net Income Flag: 1 if Net Income is Negative for the last two years, 0 otherwise  \n",
        "X95 - Equity to Liability  \n"
      ]
    },
    {
      "cell_type": "markdown",
      "metadata": {
        "papermill": {
          "duration": 0.02213,
          "end_time": "2021-03-17T01:37:16.300770",
          "exception": false,
          "start_time": "2021-03-17T01:37:16.278640",
          "status": "completed"
        },
        "tags": [],
        "id": "yYwvk44yVK-I"
      },
      "source": [
        "<a id=\"Read-in-Data\"></a>\n",
        "# Read in Data"
      ]
    },
    {
      "cell_type": "markdown",
      "metadata": {
        "papermill": {
          "duration": 0.0212,
          "end_time": "2021-03-17T01:37:16.343894",
          "exception": false,
          "start_time": "2021-03-17T01:37:16.322694",
          "status": "completed"
        },
        "tags": [],
        "id": "7un1SSX0VK-J"
      },
      "source": [
        "<a id=\"data.csv\"></a>\n",
        "## Data.csv"
      ]
    },
    {
      "cell_type": "code",
      "execution_count": null,
      "metadata": {
        "execution": {
          "iopub.execute_input": "2021-03-17T01:37:16.393191Z",
          "iopub.status.busy": "2021-03-17T01:37:16.392484Z",
          "iopub.status.idle": "2021-03-17T01:37:16.963618Z",
          "shell.execute_reply": "2021-03-17T01:37:16.964350Z"
        },
        "papermill": {
          "duration": 0.597422,
          "end_time": "2021-03-17T01:37:16.964600",
          "exception": false,
          "start_time": "2021-03-17T01:37:16.367178",
          "status": "completed"
        },
        "tags": [],
        "colab": {
          "base_uri": "https://localhost:8080/"
        },
        "id": "3ABumuIQVK-K",
        "outputId": "f387be1c-90d2-4794-a753-e6cc4e8ff157"
      },
      "outputs": [
        {
          "output_type": "stream",
          "name": "stdout",
          "text": [
            "<class 'pandas.core.frame.DataFrame'>\n",
            "RangeIndex: 6819 entries, 0 to 6818\n",
            "Data columns (total 96 columns):\n",
            " #   Column  Non-Null Count  Dtype  \n",
            "---  ------  --------------  -----  \n",
            " 0   Y       6819 non-null   int64  \n",
            " 1   X1      6819 non-null   float64\n",
            " 2   X2      6819 non-null   float64\n",
            " 3   X3      6819 non-null   float64\n",
            " 4   X4      6819 non-null   float64\n",
            " 5   X5      6819 non-null   float64\n",
            " 6   X6      6819 non-null   float64\n",
            " 7   X7      6819 non-null   float64\n",
            " 8   X8      6819 non-null   float64\n",
            " 9   X9      6819 non-null   float64\n",
            " 10  X10     6819 non-null   float64\n",
            " 11  X11     6819 non-null   float64\n",
            " 12  X12     6819 non-null   float64\n",
            " 13  X13     6819 non-null   float64\n",
            " 14  X14     6819 non-null   float64\n",
            " 15  X15     6819 non-null   float64\n",
            " 16  X16     6819 non-null   float64\n",
            " 17  X17     6819 non-null   float64\n",
            " 18  X18     6819 non-null   float64\n",
            " 19  X19     6819 non-null   float64\n",
            " 20  X20     6819 non-null   float64\n",
            " 21  X21     6819 non-null   float64\n",
            " 22  X22     6819 non-null   float64\n",
            " 23  X23     6819 non-null   float64\n",
            " 24  X24     6819 non-null   float64\n",
            " 25  X25     6819 non-null   float64\n",
            " 26  X26     6819 non-null   float64\n",
            " 27  X27     6819 non-null   float64\n",
            " 28  X28     6819 non-null   float64\n",
            " 29  X29     6819 non-null   float64\n",
            " 30  X30     6819 non-null   float64\n",
            " 31  X31     6819 non-null   float64\n",
            " 32  X32     6819 non-null   float64\n",
            " 33  X33     6819 non-null   float64\n",
            " 34  X34     6819 non-null   float64\n",
            " 35  X35     6819 non-null   float64\n",
            " 36  X36     6819 non-null   float64\n",
            " 37  X37     6819 non-null   float64\n",
            " 38  X38     6819 non-null   float64\n",
            " 39  X39     6819 non-null   float64\n",
            " 40  X40     6819 non-null   float64\n",
            " 41  X41     6819 non-null   float64\n",
            " 42  X42     6819 non-null   float64\n",
            " 43  X43     6819 non-null   float64\n",
            " 44  X44     6819 non-null   float64\n",
            " 45  X45     6819 non-null   float64\n",
            " 46  X46     6819 non-null   float64\n",
            " 47  X47     6819 non-null   float64\n",
            " 48  X48     6819 non-null   float64\n",
            " 49  X49     6819 non-null   float64\n",
            " 50  X50     6819 non-null   float64\n",
            " 51  X51     6819 non-null   float64\n",
            " 52  X52     6819 non-null   float64\n",
            " 53  X53     6819 non-null   float64\n",
            " 54  X54     6819 non-null   float64\n",
            " 55  X55     6819 non-null   float64\n",
            " 56  X56     6819 non-null   float64\n",
            " 57  X57     6819 non-null   float64\n",
            " 58  X58     6819 non-null   float64\n",
            " 59  X59     6819 non-null   float64\n",
            " 60  X60     6819 non-null   float64\n",
            " 61  X61     6819 non-null   float64\n",
            " 62  X62     6819 non-null   float64\n",
            " 63  X63     6819 non-null   float64\n",
            " 64  X64     6819 non-null   float64\n",
            " 65  X65     6819 non-null   float64\n",
            " 66  X66     6819 non-null   float64\n",
            " 67  X67     6819 non-null   float64\n",
            " 68  X68     6819 non-null   float64\n",
            " 69  X69     6819 non-null   float64\n",
            " 70  X70     6819 non-null   float64\n",
            " 71  X71     6819 non-null   float64\n",
            " 72  X72     6819 non-null   float64\n",
            " 73  X73     6819 non-null   float64\n",
            " 74  X74     6819 non-null   float64\n",
            " 75  X75     6819 non-null   float64\n",
            " 76  X76     6819 non-null   float64\n",
            " 77  X77     6819 non-null   float64\n",
            " 78  X78     6819 non-null   float64\n",
            " 79  X79     6819 non-null   float64\n",
            " 80  X80     6819 non-null   float64\n",
            " 81  X81     6819 non-null   float64\n",
            " 82  X82     6819 non-null   float64\n",
            " 83  X83     6819 non-null   float64\n",
            " 84  X84     6819 non-null   float64\n",
            " 85  X85     6819 non-null   int64  \n",
            " 86  X86     6819 non-null   float64\n",
            " 87  X87     6819 non-null   float64\n",
            " 88  X88     6819 non-null   float64\n",
            " 89  X89     6819 non-null   float64\n",
            " 90  X90     6819 non-null   float64\n",
            " 91  X91     6819 non-null   float64\n",
            " 92  X92     6819 non-null   float64\n",
            " 93  X93     6819 non-null   float64\n",
            " 94  X94     6819 non-null   int64  \n",
            " 95  X95     6819 non-null   float64\n",
            "dtypes: float64(93), int64(3)\n",
            "memory usage: 5.0 MB\n"
          ]
        }
      ],
      "source": [
        "#   Read data.csv\n",
        "# read_csv is the method that we used from pandas \n",
        "data_csv = pd.read_csv('dataML data.csv')\n",
        "\n",
        "\n",
        "# Rename Column names \n",
        "# X0 = target \n",
        "column_names = ['Y']\n",
        "column_names = column_names + ['X' + str(num) for num in range(1,len(data_csv.columns))]\n",
        "column_names_df = pd.DataFrame({\"Var_name\": column_names,\"Description\": data_csv.columns})\n",
        "\n",
        "data_csv.columns = column_names \n",
        "data_csv.info(verbose = True,show_counts = True)"
      ]
    },
    {
      "cell_type": "code",
      "execution_count": null,
      "metadata": {
        "execution": {
          "iopub.execute_input": "2021-03-17T01:37:17.015173Z",
          "iopub.status.busy": "2021-03-17T01:37:17.014499Z",
          "iopub.status.idle": "2021-03-17T01:37:17.102256Z",
          "shell.execute_reply": "2021-03-17T01:37:17.102885Z"
        },
        "papermill": {
          "duration": 0.114536,
          "end_time": "2021-03-17T01:37:17.103072",
          "exception": false,
          "start_time": "2021-03-17T01:37:16.988536",
          "status": "completed"
        },
        "tags": [],
        "colab": {
          "base_uri": "https://localhost:8080/",
          "height": 1000
        },
        "id": "SjNvdL2bVK-K",
        "outputId": "34ba455c-2057-414a-9462-8806639b3295"
      },
      "outputs": [
        {
          "output_type": "execute_result",
          "data": {
            "text/plain": [
              "<pandas.io.formats.style.Styler at 0x7fc81459cd00>"
            ],
            "text/html": [
              "<style type=\"text/css\">\n",
              "</style>\n",
              "<table id=\"T_4842d\" class=\"dataframe\">\n",
              "  <thead>\n",
              "    <tr>\n",
              "      <th class=\"blank level0\" >&nbsp;</th>\n",
              "      <th id=\"T_4842d_level0_col0\" class=\"col_heading level0 col0\" >Var_name</th>\n",
              "      <th id=\"T_4842d_level0_col1\" class=\"col_heading level0 col1\" >Description</th>\n",
              "    </tr>\n",
              "  </thead>\n",
              "  <tbody>\n",
              "    <tr>\n",
              "      <th id=\"T_4842d_level0_row0\" class=\"row_heading level0 row0\" >0</th>\n",
              "      <td id=\"T_4842d_row0_col0\" class=\"data row0 col0\" >Y</td>\n",
              "      <td id=\"T_4842d_row0_col1\" class=\"data row0 col1\" >Bankrupt?</td>\n",
              "    </tr>\n",
              "    <tr>\n",
              "      <th id=\"T_4842d_level0_row1\" class=\"row_heading level0 row1\" >1</th>\n",
              "      <td id=\"T_4842d_row1_col0\" class=\"data row1 col0\" >X1</td>\n",
              "      <td id=\"T_4842d_row1_col1\" class=\"data row1 col1\" > ROA(C) before interest and depreciation before interest</td>\n",
              "    </tr>\n",
              "    <tr>\n",
              "      <th id=\"T_4842d_level0_row2\" class=\"row_heading level0 row2\" >2</th>\n",
              "      <td id=\"T_4842d_row2_col0\" class=\"data row2 col0\" >X2</td>\n",
              "      <td id=\"T_4842d_row2_col1\" class=\"data row2 col1\" > ROA(A) before interest and % after tax</td>\n",
              "    </tr>\n",
              "    <tr>\n",
              "      <th id=\"T_4842d_level0_row3\" class=\"row_heading level0 row3\" >3</th>\n",
              "      <td id=\"T_4842d_row3_col0\" class=\"data row3 col0\" >X3</td>\n",
              "      <td id=\"T_4842d_row3_col1\" class=\"data row3 col1\" > ROA(B) before interest and depreciation after tax</td>\n",
              "    </tr>\n",
              "    <tr>\n",
              "      <th id=\"T_4842d_level0_row4\" class=\"row_heading level0 row4\" >4</th>\n",
              "      <td id=\"T_4842d_row4_col0\" class=\"data row4 col0\" >X4</td>\n",
              "      <td id=\"T_4842d_row4_col1\" class=\"data row4 col1\" > Operating Gross Margin</td>\n",
              "    </tr>\n",
              "    <tr>\n",
              "      <th id=\"T_4842d_level0_row5\" class=\"row_heading level0 row5\" >5</th>\n",
              "      <td id=\"T_4842d_row5_col0\" class=\"data row5 col0\" >X5</td>\n",
              "      <td id=\"T_4842d_row5_col1\" class=\"data row5 col1\" > Realized Sales Gross Margin</td>\n",
              "    </tr>\n",
              "    <tr>\n",
              "      <th id=\"T_4842d_level0_row6\" class=\"row_heading level0 row6\" >6</th>\n",
              "      <td id=\"T_4842d_row6_col0\" class=\"data row6 col0\" >X6</td>\n",
              "      <td id=\"T_4842d_row6_col1\" class=\"data row6 col1\" > Operating Profit Rate</td>\n",
              "    </tr>\n",
              "    <tr>\n",
              "      <th id=\"T_4842d_level0_row7\" class=\"row_heading level0 row7\" >7</th>\n",
              "      <td id=\"T_4842d_row7_col0\" class=\"data row7 col0\" >X7</td>\n",
              "      <td id=\"T_4842d_row7_col1\" class=\"data row7 col1\" > Pre-tax net Interest Rate</td>\n",
              "    </tr>\n",
              "    <tr>\n",
              "      <th id=\"T_4842d_level0_row8\" class=\"row_heading level0 row8\" >8</th>\n",
              "      <td id=\"T_4842d_row8_col0\" class=\"data row8 col0\" >X8</td>\n",
              "      <td id=\"T_4842d_row8_col1\" class=\"data row8 col1\" > After-tax net Interest Rate</td>\n",
              "    </tr>\n",
              "    <tr>\n",
              "      <th id=\"T_4842d_level0_row9\" class=\"row_heading level0 row9\" >9</th>\n",
              "      <td id=\"T_4842d_row9_col0\" class=\"data row9 col0\" >X9</td>\n",
              "      <td id=\"T_4842d_row9_col1\" class=\"data row9 col1\" > Non-industry income and expenditure/revenue</td>\n",
              "    </tr>\n",
              "    <tr>\n",
              "      <th id=\"T_4842d_level0_row10\" class=\"row_heading level0 row10\" >10</th>\n",
              "      <td id=\"T_4842d_row10_col0\" class=\"data row10 col0\" >X10</td>\n",
              "      <td id=\"T_4842d_row10_col1\" class=\"data row10 col1\" > Continuous interest rate (after tax)</td>\n",
              "    </tr>\n",
              "    <tr>\n",
              "      <th id=\"T_4842d_level0_row11\" class=\"row_heading level0 row11\" >11</th>\n",
              "      <td id=\"T_4842d_row11_col0\" class=\"data row11 col0\" >X11</td>\n",
              "      <td id=\"T_4842d_row11_col1\" class=\"data row11 col1\" > Operating Expense Rate</td>\n",
              "    </tr>\n",
              "    <tr>\n",
              "      <th id=\"T_4842d_level0_row12\" class=\"row_heading level0 row12\" >12</th>\n",
              "      <td id=\"T_4842d_row12_col0\" class=\"data row12 col0\" >X12</td>\n",
              "      <td id=\"T_4842d_row12_col1\" class=\"data row12 col1\" > Research and development expense rate</td>\n",
              "    </tr>\n",
              "    <tr>\n",
              "      <th id=\"T_4842d_level0_row13\" class=\"row_heading level0 row13\" >13</th>\n",
              "      <td id=\"T_4842d_row13_col0\" class=\"data row13 col0\" >X13</td>\n",
              "      <td id=\"T_4842d_row13_col1\" class=\"data row13 col1\" > Cash flow rate</td>\n",
              "    </tr>\n",
              "    <tr>\n",
              "      <th id=\"T_4842d_level0_row14\" class=\"row_heading level0 row14\" >14</th>\n",
              "      <td id=\"T_4842d_row14_col0\" class=\"data row14 col0\" >X14</td>\n",
              "      <td id=\"T_4842d_row14_col1\" class=\"data row14 col1\" > Interest-bearing debt interest rate</td>\n",
              "    </tr>\n",
              "    <tr>\n",
              "      <th id=\"T_4842d_level0_row15\" class=\"row_heading level0 row15\" >15</th>\n",
              "      <td id=\"T_4842d_row15_col0\" class=\"data row15 col0\" >X15</td>\n",
              "      <td id=\"T_4842d_row15_col1\" class=\"data row15 col1\" > Tax rate (A)</td>\n",
              "    </tr>\n",
              "    <tr>\n",
              "      <th id=\"T_4842d_level0_row16\" class=\"row_heading level0 row16\" >16</th>\n",
              "      <td id=\"T_4842d_row16_col0\" class=\"data row16 col0\" >X16</td>\n",
              "      <td id=\"T_4842d_row16_col1\" class=\"data row16 col1\" > Net Value Per Share (B)</td>\n",
              "    </tr>\n",
              "    <tr>\n",
              "      <th id=\"T_4842d_level0_row17\" class=\"row_heading level0 row17\" >17</th>\n",
              "      <td id=\"T_4842d_row17_col0\" class=\"data row17 col0\" >X17</td>\n",
              "      <td id=\"T_4842d_row17_col1\" class=\"data row17 col1\" > Net Value Per Share (A)</td>\n",
              "    </tr>\n",
              "    <tr>\n",
              "      <th id=\"T_4842d_level0_row18\" class=\"row_heading level0 row18\" >18</th>\n",
              "      <td id=\"T_4842d_row18_col0\" class=\"data row18 col0\" >X18</td>\n",
              "      <td id=\"T_4842d_row18_col1\" class=\"data row18 col1\" > Net Value Per Share (C)</td>\n",
              "    </tr>\n",
              "    <tr>\n",
              "      <th id=\"T_4842d_level0_row19\" class=\"row_heading level0 row19\" >19</th>\n",
              "      <td id=\"T_4842d_row19_col0\" class=\"data row19 col0\" >X19</td>\n",
              "      <td id=\"T_4842d_row19_col1\" class=\"data row19 col1\" > Persistent EPS in the Last Four Seasons</td>\n",
              "    </tr>\n",
              "    <tr>\n",
              "      <th id=\"T_4842d_level0_row20\" class=\"row_heading level0 row20\" >20</th>\n",
              "      <td id=\"T_4842d_row20_col0\" class=\"data row20 col0\" >X20</td>\n",
              "      <td id=\"T_4842d_row20_col1\" class=\"data row20 col1\" > Cash Flow Per Share</td>\n",
              "    </tr>\n",
              "    <tr>\n",
              "      <th id=\"T_4842d_level0_row21\" class=\"row_heading level0 row21\" >21</th>\n",
              "      <td id=\"T_4842d_row21_col0\" class=\"data row21 col0\" >X21</td>\n",
              "      <td id=\"T_4842d_row21_col1\" class=\"data row21 col1\" > Revenue Per Share (Yuan ¥)</td>\n",
              "    </tr>\n",
              "    <tr>\n",
              "      <th id=\"T_4842d_level0_row22\" class=\"row_heading level0 row22\" >22</th>\n",
              "      <td id=\"T_4842d_row22_col0\" class=\"data row22 col0\" >X22</td>\n",
              "      <td id=\"T_4842d_row22_col1\" class=\"data row22 col1\" > Operating Profit Per Share (Yuan ¥)</td>\n",
              "    </tr>\n",
              "    <tr>\n",
              "      <th id=\"T_4842d_level0_row23\" class=\"row_heading level0 row23\" >23</th>\n",
              "      <td id=\"T_4842d_row23_col0\" class=\"data row23 col0\" >X23</td>\n",
              "      <td id=\"T_4842d_row23_col1\" class=\"data row23 col1\" > Per Share Net profit before tax (Yuan ¥)</td>\n",
              "    </tr>\n",
              "    <tr>\n",
              "      <th id=\"T_4842d_level0_row24\" class=\"row_heading level0 row24\" >24</th>\n",
              "      <td id=\"T_4842d_row24_col0\" class=\"data row24 col0\" >X24</td>\n",
              "      <td id=\"T_4842d_row24_col1\" class=\"data row24 col1\" > Realized Sales Gross Profit Growth Rate</td>\n",
              "    </tr>\n",
              "    <tr>\n",
              "      <th id=\"T_4842d_level0_row25\" class=\"row_heading level0 row25\" >25</th>\n",
              "      <td id=\"T_4842d_row25_col0\" class=\"data row25 col0\" >X25</td>\n",
              "      <td id=\"T_4842d_row25_col1\" class=\"data row25 col1\" > Operating Profit Growth Rate</td>\n",
              "    </tr>\n",
              "    <tr>\n",
              "      <th id=\"T_4842d_level0_row26\" class=\"row_heading level0 row26\" >26</th>\n",
              "      <td id=\"T_4842d_row26_col0\" class=\"data row26 col0\" >X26</td>\n",
              "      <td id=\"T_4842d_row26_col1\" class=\"data row26 col1\" > After-tax Net Profit Growth Rate</td>\n",
              "    </tr>\n",
              "    <tr>\n",
              "      <th id=\"T_4842d_level0_row27\" class=\"row_heading level0 row27\" >27</th>\n",
              "      <td id=\"T_4842d_row27_col0\" class=\"data row27 col0\" >X27</td>\n",
              "      <td id=\"T_4842d_row27_col1\" class=\"data row27 col1\" > Regular Net Profit Growth Rate</td>\n",
              "    </tr>\n",
              "    <tr>\n",
              "      <th id=\"T_4842d_level0_row28\" class=\"row_heading level0 row28\" >28</th>\n",
              "      <td id=\"T_4842d_row28_col0\" class=\"data row28 col0\" >X28</td>\n",
              "      <td id=\"T_4842d_row28_col1\" class=\"data row28 col1\" > Continuous Net Profit Growth Rate</td>\n",
              "    </tr>\n",
              "    <tr>\n",
              "      <th id=\"T_4842d_level0_row29\" class=\"row_heading level0 row29\" >29</th>\n",
              "      <td id=\"T_4842d_row29_col0\" class=\"data row29 col0\" >X29</td>\n",
              "      <td id=\"T_4842d_row29_col1\" class=\"data row29 col1\" > Total Asset Growth Rate</td>\n",
              "    </tr>\n",
              "    <tr>\n",
              "      <th id=\"T_4842d_level0_row30\" class=\"row_heading level0 row30\" >30</th>\n",
              "      <td id=\"T_4842d_row30_col0\" class=\"data row30 col0\" >X30</td>\n",
              "      <td id=\"T_4842d_row30_col1\" class=\"data row30 col1\" > Net Value Growth Rate</td>\n",
              "    </tr>\n",
              "    <tr>\n",
              "      <th id=\"T_4842d_level0_row31\" class=\"row_heading level0 row31\" >31</th>\n",
              "      <td id=\"T_4842d_row31_col0\" class=\"data row31 col0\" >X31</td>\n",
              "      <td id=\"T_4842d_row31_col1\" class=\"data row31 col1\" > Total Asset Return Growth Rate Ratio</td>\n",
              "    </tr>\n",
              "    <tr>\n",
              "      <th id=\"T_4842d_level0_row32\" class=\"row_heading level0 row32\" >32</th>\n",
              "      <td id=\"T_4842d_row32_col0\" class=\"data row32 col0\" >X32</td>\n",
              "      <td id=\"T_4842d_row32_col1\" class=\"data row32 col1\" > Cash Reinvestment %</td>\n",
              "    </tr>\n",
              "    <tr>\n",
              "      <th id=\"T_4842d_level0_row33\" class=\"row_heading level0 row33\" >33</th>\n",
              "      <td id=\"T_4842d_row33_col0\" class=\"data row33 col0\" >X33</td>\n",
              "      <td id=\"T_4842d_row33_col1\" class=\"data row33 col1\" > Current Ratio</td>\n",
              "    </tr>\n",
              "    <tr>\n",
              "      <th id=\"T_4842d_level0_row34\" class=\"row_heading level0 row34\" >34</th>\n",
              "      <td id=\"T_4842d_row34_col0\" class=\"data row34 col0\" >X34</td>\n",
              "      <td id=\"T_4842d_row34_col1\" class=\"data row34 col1\" > Quick Ratio</td>\n",
              "    </tr>\n",
              "    <tr>\n",
              "      <th id=\"T_4842d_level0_row35\" class=\"row_heading level0 row35\" >35</th>\n",
              "      <td id=\"T_4842d_row35_col0\" class=\"data row35 col0\" >X35</td>\n",
              "      <td id=\"T_4842d_row35_col1\" class=\"data row35 col1\" > Interest Expense Ratio</td>\n",
              "    </tr>\n",
              "    <tr>\n",
              "      <th id=\"T_4842d_level0_row36\" class=\"row_heading level0 row36\" >36</th>\n",
              "      <td id=\"T_4842d_row36_col0\" class=\"data row36 col0\" >X36</td>\n",
              "      <td id=\"T_4842d_row36_col1\" class=\"data row36 col1\" > Total debt/Total net worth</td>\n",
              "    </tr>\n",
              "    <tr>\n",
              "      <th id=\"T_4842d_level0_row37\" class=\"row_heading level0 row37\" >37</th>\n",
              "      <td id=\"T_4842d_row37_col0\" class=\"data row37 col0\" >X37</td>\n",
              "      <td id=\"T_4842d_row37_col1\" class=\"data row37 col1\" > Debt ratio %</td>\n",
              "    </tr>\n",
              "    <tr>\n",
              "      <th id=\"T_4842d_level0_row38\" class=\"row_heading level0 row38\" >38</th>\n",
              "      <td id=\"T_4842d_row38_col0\" class=\"data row38 col0\" >X38</td>\n",
              "      <td id=\"T_4842d_row38_col1\" class=\"data row38 col1\" > Net worth/Assets</td>\n",
              "    </tr>\n",
              "    <tr>\n",
              "      <th id=\"T_4842d_level0_row39\" class=\"row_heading level0 row39\" >39</th>\n",
              "      <td id=\"T_4842d_row39_col0\" class=\"data row39 col0\" >X39</td>\n",
              "      <td id=\"T_4842d_row39_col1\" class=\"data row39 col1\" > Long-term fund suitability ratio (A)</td>\n",
              "    </tr>\n",
              "    <tr>\n",
              "      <th id=\"T_4842d_level0_row40\" class=\"row_heading level0 row40\" >40</th>\n",
              "      <td id=\"T_4842d_row40_col0\" class=\"data row40 col0\" >X40</td>\n",
              "      <td id=\"T_4842d_row40_col1\" class=\"data row40 col1\" > Borrowing dependency</td>\n",
              "    </tr>\n",
              "    <tr>\n",
              "      <th id=\"T_4842d_level0_row41\" class=\"row_heading level0 row41\" >41</th>\n",
              "      <td id=\"T_4842d_row41_col0\" class=\"data row41 col0\" >X41</td>\n",
              "      <td id=\"T_4842d_row41_col1\" class=\"data row41 col1\" > Contingent liabilities/Net worth</td>\n",
              "    </tr>\n",
              "    <tr>\n",
              "      <th id=\"T_4842d_level0_row42\" class=\"row_heading level0 row42\" >42</th>\n",
              "      <td id=\"T_4842d_row42_col0\" class=\"data row42 col0\" >X42</td>\n",
              "      <td id=\"T_4842d_row42_col1\" class=\"data row42 col1\" > Operating profit/Paid-in capital</td>\n",
              "    </tr>\n",
              "    <tr>\n",
              "      <th id=\"T_4842d_level0_row43\" class=\"row_heading level0 row43\" >43</th>\n",
              "      <td id=\"T_4842d_row43_col0\" class=\"data row43 col0\" >X43</td>\n",
              "      <td id=\"T_4842d_row43_col1\" class=\"data row43 col1\" > Net profit before tax/Paid-in capital</td>\n",
              "    </tr>\n",
              "    <tr>\n",
              "      <th id=\"T_4842d_level0_row44\" class=\"row_heading level0 row44\" >44</th>\n",
              "      <td id=\"T_4842d_row44_col0\" class=\"data row44 col0\" >X44</td>\n",
              "      <td id=\"T_4842d_row44_col1\" class=\"data row44 col1\" > Inventory and accounts receivable/Net value</td>\n",
              "    </tr>\n",
              "    <tr>\n",
              "      <th id=\"T_4842d_level0_row45\" class=\"row_heading level0 row45\" >45</th>\n",
              "      <td id=\"T_4842d_row45_col0\" class=\"data row45 col0\" >X45</td>\n",
              "      <td id=\"T_4842d_row45_col1\" class=\"data row45 col1\" > Total Asset Turnover</td>\n",
              "    </tr>\n",
              "    <tr>\n",
              "      <th id=\"T_4842d_level0_row46\" class=\"row_heading level0 row46\" >46</th>\n",
              "      <td id=\"T_4842d_row46_col0\" class=\"data row46 col0\" >X46</td>\n",
              "      <td id=\"T_4842d_row46_col1\" class=\"data row46 col1\" > Accounts Receivable Turnover</td>\n",
              "    </tr>\n",
              "    <tr>\n",
              "      <th id=\"T_4842d_level0_row47\" class=\"row_heading level0 row47\" >47</th>\n",
              "      <td id=\"T_4842d_row47_col0\" class=\"data row47 col0\" >X47</td>\n",
              "      <td id=\"T_4842d_row47_col1\" class=\"data row47 col1\" > Average Collection Days</td>\n",
              "    </tr>\n",
              "    <tr>\n",
              "      <th id=\"T_4842d_level0_row48\" class=\"row_heading level0 row48\" >48</th>\n",
              "      <td id=\"T_4842d_row48_col0\" class=\"data row48 col0\" >X48</td>\n",
              "      <td id=\"T_4842d_row48_col1\" class=\"data row48 col1\" > Inventory Turnover Rate (times)</td>\n",
              "    </tr>\n",
              "    <tr>\n",
              "      <th id=\"T_4842d_level0_row49\" class=\"row_heading level0 row49\" >49</th>\n",
              "      <td id=\"T_4842d_row49_col0\" class=\"data row49 col0\" >X49</td>\n",
              "      <td id=\"T_4842d_row49_col1\" class=\"data row49 col1\" > Fixed Assets Turnover Frequency</td>\n",
              "    </tr>\n",
              "    <tr>\n",
              "      <th id=\"T_4842d_level0_row50\" class=\"row_heading level0 row50\" >50</th>\n",
              "      <td id=\"T_4842d_row50_col0\" class=\"data row50 col0\" >X50</td>\n",
              "      <td id=\"T_4842d_row50_col1\" class=\"data row50 col1\" > Net Worth Turnover Rate (times)</td>\n",
              "    </tr>\n",
              "    <tr>\n",
              "      <th id=\"T_4842d_level0_row51\" class=\"row_heading level0 row51\" >51</th>\n",
              "      <td id=\"T_4842d_row51_col0\" class=\"data row51 col0\" >X51</td>\n",
              "      <td id=\"T_4842d_row51_col1\" class=\"data row51 col1\" > Revenue per person</td>\n",
              "    </tr>\n",
              "    <tr>\n",
              "      <th id=\"T_4842d_level0_row52\" class=\"row_heading level0 row52\" >52</th>\n",
              "      <td id=\"T_4842d_row52_col0\" class=\"data row52 col0\" >X52</td>\n",
              "      <td id=\"T_4842d_row52_col1\" class=\"data row52 col1\" > Operating profit per person</td>\n",
              "    </tr>\n",
              "    <tr>\n",
              "      <th id=\"T_4842d_level0_row53\" class=\"row_heading level0 row53\" >53</th>\n",
              "      <td id=\"T_4842d_row53_col0\" class=\"data row53 col0\" >X53</td>\n",
              "      <td id=\"T_4842d_row53_col1\" class=\"data row53 col1\" > Allocation rate per person</td>\n",
              "    </tr>\n",
              "    <tr>\n",
              "      <th id=\"T_4842d_level0_row54\" class=\"row_heading level0 row54\" >54</th>\n",
              "      <td id=\"T_4842d_row54_col0\" class=\"data row54 col0\" >X54</td>\n",
              "      <td id=\"T_4842d_row54_col1\" class=\"data row54 col1\" > Working Capital to Total Assets</td>\n",
              "    </tr>\n",
              "    <tr>\n",
              "      <th id=\"T_4842d_level0_row55\" class=\"row_heading level0 row55\" >55</th>\n",
              "      <td id=\"T_4842d_row55_col0\" class=\"data row55 col0\" >X55</td>\n",
              "      <td id=\"T_4842d_row55_col1\" class=\"data row55 col1\" > Quick Assets/Total Assets</td>\n",
              "    </tr>\n",
              "    <tr>\n",
              "      <th id=\"T_4842d_level0_row56\" class=\"row_heading level0 row56\" >56</th>\n",
              "      <td id=\"T_4842d_row56_col0\" class=\"data row56 col0\" >X56</td>\n",
              "      <td id=\"T_4842d_row56_col1\" class=\"data row56 col1\" > Current Assets/Total Assets</td>\n",
              "    </tr>\n",
              "    <tr>\n",
              "      <th id=\"T_4842d_level0_row57\" class=\"row_heading level0 row57\" >57</th>\n",
              "      <td id=\"T_4842d_row57_col0\" class=\"data row57 col0\" >X57</td>\n",
              "      <td id=\"T_4842d_row57_col1\" class=\"data row57 col1\" > Cash/Total Assets</td>\n",
              "    </tr>\n",
              "    <tr>\n",
              "      <th id=\"T_4842d_level0_row58\" class=\"row_heading level0 row58\" >58</th>\n",
              "      <td id=\"T_4842d_row58_col0\" class=\"data row58 col0\" >X58</td>\n",
              "      <td id=\"T_4842d_row58_col1\" class=\"data row58 col1\" > Quick Assets/Current Liability</td>\n",
              "    </tr>\n",
              "    <tr>\n",
              "      <th id=\"T_4842d_level0_row59\" class=\"row_heading level0 row59\" >59</th>\n",
              "      <td id=\"T_4842d_row59_col0\" class=\"data row59 col0\" >X59</td>\n",
              "      <td id=\"T_4842d_row59_col1\" class=\"data row59 col1\" > Cash/Current Liability</td>\n",
              "    </tr>\n",
              "    <tr>\n",
              "      <th id=\"T_4842d_level0_row60\" class=\"row_heading level0 row60\" >60</th>\n",
              "      <td id=\"T_4842d_row60_col0\" class=\"data row60 col0\" >X60</td>\n",
              "      <td id=\"T_4842d_row60_col1\" class=\"data row60 col1\" > Current Liability to Assets</td>\n",
              "    </tr>\n",
              "    <tr>\n",
              "      <th id=\"T_4842d_level0_row61\" class=\"row_heading level0 row61\" >61</th>\n",
              "      <td id=\"T_4842d_row61_col0\" class=\"data row61 col0\" >X61</td>\n",
              "      <td id=\"T_4842d_row61_col1\" class=\"data row61 col1\" > Operating Funds to Liability</td>\n",
              "    </tr>\n",
              "    <tr>\n",
              "      <th id=\"T_4842d_level0_row62\" class=\"row_heading level0 row62\" >62</th>\n",
              "      <td id=\"T_4842d_row62_col0\" class=\"data row62 col0\" >X62</td>\n",
              "      <td id=\"T_4842d_row62_col1\" class=\"data row62 col1\" > Inventory/Working Capital</td>\n",
              "    </tr>\n",
              "    <tr>\n",
              "      <th id=\"T_4842d_level0_row63\" class=\"row_heading level0 row63\" >63</th>\n",
              "      <td id=\"T_4842d_row63_col0\" class=\"data row63 col0\" >X63</td>\n",
              "      <td id=\"T_4842d_row63_col1\" class=\"data row63 col1\" > Inventory/Current Liability</td>\n",
              "    </tr>\n",
              "    <tr>\n",
              "      <th id=\"T_4842d_level0_row64\" class=\"row_heading level0 row64\" >64</th>\n",
              "      <td id=\"T_4842d_row64_col0\" class=\"data row64 col0\" >X64</td>\n",
              "      <td id=\"T_4842d_row64_col1\" class=\"data row64 col1\" > Current Liabilities/Liability</td>\n",
              "    </tr>\n",
              "    <tr>\n",
              "      <th id=\"T_4842d_level0_row65\" class=\"row_heading level0 row65\" >65</th>\n",
              "      <td id=\"T_4842d_row65_col0\" class=\"data row65 col0\" >X65</td>\n",
              "      <td id=\"T_4842d_row65_col1\" class=\"data row65 col1\" > Working Capital/Equity</td>\n",
              "    </tr>\n",
              "    <tr>\n",
              "      <th id=\"T_4842d_level0_row66\" class=\"row_heading level0 row66\" >66</th>\n",
              "      <td id=\"T_4842d_row66_col0\" class=\"data row66 col0\" >X66</td>\n",
              "      <td id=\"T_4842d_row66_col1\" class=\"data row66 col1\" > Current Liabilities/Equity</td>\n",
              "    </tr>\n",
              "    <tr>\n",
              "      <th id=\"T_4842d_level0_row67\" class=\"row_heading level0 row67\" >67</th>\n",
              "      <td id=\"T_4842d_row67_col0\" class=\"data row67 col0\" >X67</td>\n",
              "      <td id=\"T_4842d_row67_col1\" class=\"data row67 col1\" > Long-term Liability to Current Assets</td>\n",
              "    </tr>\n",
              "    <tr>\n",
              "      <th id=\"T_4842d_level0_row68\" class=\"row_heading level0 row68\" >68</th>\n",
              "      <td id=\"T_4842d_row68_col0\" class=\"data row68 col0\" >X68</td>\n",
              "      <td id=\"T_4842d_row68_col1\" class=\"data row68 col1\" > Retained Earnings to Total Assets</td>\n",
              "    </tr>\n",
              "    <tr>\n",
              "      <th id=\"T_4842d_level0_row69\" class=\"row_heading level0 row69\" >69</th>\n",
              "      <td id=\"T_4842d_row69_col0\" class=\"data row69 col0\" >X69</td>\n",
              "      <td id=\"T_4842d_row69_col1\" class=\"data row69 col1\" > Total income/Total expense</td>\n",
              "    </tr>\n",
              "    <tr>\n",
              "      <th id=\"T_4842d_level0_row70\" class=\"row_heading level0 row70\" >70</th>\n",
              "      <td id=\"T_4842d_row70_col0\" class=\"data row70 col0\" >X70</td>\n",
              "      <td id=\"T_4842d_row70_col1\" class=\"data row70 col1\" > Total expense/Assets</td>\n",
              "    </tr>\n",
              "    <tr>\n",
              "      <th id=\"T_4842d_level0_row71\" class=\"row_heading level0 row71\" >71</th>\n",
              "      <td id=\"T_4842d_row71_col0\" class=\"data row71 col0\" >X71</td>\n",
              "      <td id=\"T_4842d_row71_col1\" class=\"data row71 col1\" > Current Asset Turnover Rate</td>\n",
              "    </tr>\n",
              "    <tr>\n",
              "      <th id=\"T_4842d_level0_row72\" class=\"row_heading level0 row72\" >72</th>\n",
              "      <td id=\"T_4842d_row72_col0\" class=\"data row72 col0\" >X72</td>\n",
              "      <td id=\"T_4842d_row72_col1\" class=\"data row72 col1\" > Quick Asset Turnover Rate</td>\n",
              "    </tr>\n",
              "    <tr>\n",
              "      <th id=\"T_4842d_level0_row73\" class=\"row_heading level0 row73\" >73</th>\n",
              "      <td id=\"T_4842d_row73_col0\" class=\"data row73 col0\" >X73</td>\n",
              "      <td id=\"T_4842d_row73_col1\" class=\"data row73 col1\" > Working capitcal Turnover Rate</td>\n",
              "    </tr>\n",
              "    <tr>\n",
              "      <th id=\"T_4842d_level0_row74\" class=\"row_heading level0 row74\" >74</th>\n",
              "      <td id=\"T_4842d_row74_col0\" class=\"data row74 col0\" >X74</td>\n",
              "      <td id=\"T_4842d_row74_col1\" class=\"data row74 col1\" > Cash Turnover Rate</td>\n",
              "    </tr>\n",
              "    <tr>\n",
              "      <th id=\"T_4842d_level0_row75\" class=\"row_heading level0 row75\" >75</th>\n",
              "      <td id=\"T_4842d_row75_col0\" class=\"data row75 col0\" >X75</td>\n",
              "      <td id=\"T_4842d_row75_col1\" class=\"data row75 col1\" > Cash Flow to Sales</td>\n",
              "    </tr>\n",
              "    <tr>\n",
              "      <th id=\"T_4842d_level0_row76\" class=\"row_heading level0 row76\" >76</th>\n",
              "      <td id=\"T_4842d_row76_col0\" class=\"data row76 col0\" >X76</td>\n",
              "      <td id=\"T_4842d_row76_col1\" class=\"data row76 col1\" > Fixed Assets to Assets</td>\n",
              "    </tr>\n",
              "    <tr>\n",
              "      <th id=\"T_4842d_level0_row77\" class=\"row_heading level0 row77\" >77</th>\n",
              "      <td id=\"T_4842d_row77_col0\" class=\"data row77 col0\" >X77</td>\n",
              "      <td id=\"T_4842d_row77_col1\" class=\"data row77 col1\" > Current Liability to Liability</td>\n",
              "    </tr>\n",
              "    <tr>\n",
              "      <th id=\"T_4842d_level0_row78\" class=\"row_heading level0 row78\" >78</th>\n",
              "      <td id=\"T_4842d_row78_col0\" class=\"data row78 col0\" >X78</td>\n",
              "      <td id=\"T_4842d_row78_col1\" class=\"data row78 col1\" > Current Liability to Equity</td>\n",
              "    </tr>\n",
              "    <tr>\n",
              "      <th id=\"T_4842d_level0_row79\" class=\"row_heading level0 row79\" >79</th>\n",
              "      <td id=\"T_4842d_row79_col0\" class=\"data row79 col0\" >X79</td>\n",
              "      <td id=\"T_4842d_row79_col1\" class=\"data row79 col1\" > Equity to Long-term Liability</td>\n",
              "    </tr>\n",
              "    <tr>\n",
              "      <th id=\"T_4842d_level0_row80\" class=\"row_heading level0 row80\" >80</th>\n",
              "      <td id=\"T_4842d_row80_col0\" class=\"data row80 col0\" >X80</td>\n",
              "      <td id=\"T_4842d_row80_col1\" class=\"data row80 col1\" > Cash Flow to Total Assets</td>\n",
              "    </tr>\n",
              "    <tr>\n",
              "      <th id=\"T_4842d_level0_row81\" class=\"row_heading level0 row81\" >81</th>\n",
              "      <td id=\"T_4842d_row81_col0\" class=\"data row81 col0\" >X81</td>\n",
              "      <td id=\"T_4842d_row81_col1\" class=\"data row81 col1\" > Cash Flow to Liability</td>\n",
              "    </tr>\n",
              "    <tr>\n",
              "      <th id=\"T_4842d_level0_row82\" class=\"row_heading level0 row82\" >82</th>\n",
              "      <td id=\"T_4842d_row82_col0\" class=\"data row82 col0\" >X82</td>\n",
              "      <td id=\"T_4842d_row82_col1\" class=\"data row82 col1\" > CFO to Assets</td>\n",
              "    </tr>\n",
              "    <tr>\n",
              "      <th id=\"T_4842d_level0_row83\" class=\"row_heading level0 row83\" >83</th>\n",
              "      <td id=\"T_4842d_row83_col0\" class=\"data row83 col0\" >X83</td>\n",
              "      <td id=\"T_4842d_row83_col1\" class=\"data row83 col1\" > Cash Flow to Equity</td>\n",
              "    </tr>\n",
              "    <tr>\n",
              "      <th id=\"T_4842d_level0_row84\" class=\"row_heading level0 row84\" >84</th>\n",
              "      <td id=\"T_4842d_row84_col0\" class=\"data row84 col0\" >X84</td>\n",
              "      <td id=\"T_4842d_row84_col1\" class=\"data row84 col1\" > Current Liability to Current Assets</td>\n",
              "    </tr>\n",
              "    <tr>\n",
              "      <th id=\"T_4842d_level0_row85\" class=\"row_heading level0 row85\" >85</th>\n",
              "      <td id=\"T_4842d_row85_col0\" class=\"data row85 col0\" >X85</td>\n",
              "      <td id=\"T_4842d_row85_col1\" class=\"data row85 col1\" > Liability-Assets Flag</td>\n",
              "    </tr>\n",
              "    <tr>\n",
              "      <th id=\"T_4842d_level0_row86\" class=\"row_heading level0 row86\" >86</th>\n",
              "      <td id=\"T_4842d_row86_col0\" class=\"data row86 col0\" >X86</td>\n",
              "      <td id=\"T_4842d_row86_col1\" class=\"data row86 col1\" > Net Income to Total Assets</td>\n",
              "    </tr>\n",
              "    <tr>\n",
              "      <th id=\"T_4842d_level0_row87\" class=\"row_heading level0 row87\" >87</th>\n",
              "      <td id=\"T_4842d_row87_col0\" class=\"data row87 col0\" >X87</td>\n",
              "      <td id=\"T_4842d_row87_col1\" class=\"data row87 col1\" > Total assets to GNP price</td>\n",
              "    </tr>\n",
              "    <tr>\n",
              "      <th id=\"T_4842d_level0_row88\" class=\"row_heading level0 row88\" >88</th>\n",
              "      <td id=\"T_4842d_row88_col0\" class=\"data row88 col0\" >X88</td>\n",
              "      <td id=\"T_4842d_row88_col1\" class=\"data row88 col1\" > No-credit Interval</td>\n",
              "    </tr>\n",
              "    <tr>\n",
              "      <th id=\"T_4842d_level0_row89\" class=\"row_heading level0 row89\" >89</th>\n",
              "      <td id=\"T_4842d_row89_col0\" class=\"data row89 col0\" >X89</td>\n",
              "      <td id=\"T_4842d_row89_col1\" class=\"data row89 col1\" > Gross Profit to Sales</td>\n",
              "    </tr>\n",
              "    <tr>\n",
              "      <th id=\"T_4842d_level0_row90\" class=\"row_heading level0 row90\" >90</th>\n",
              "      <td id=\"T_4842d_row90_col0\" class=\"data row90 col0\" >X90</td>\n",
              "      <td id=\"T_4842d_row90_col1\" class=\"data row90 col1\" > Net Income to Stockholder's Equity</td>\n",
              "    </tr>\n",
              "    <tr>\n",
              "      <th id=\"T_4842d_level0_row91\" class=\"row_heading level0 row91\" >91</th>\n",
              "      <td id=\"T_4842d_row91_col0\" class=\"data row91 col0\" >X91</td>\n",
              "      <td id=\"T_4842d_row91_col1\" class=\"data row91 col1\" > Liability to Equity</td>\n",
              "    </tr>\n",
              "    <tr>\n",
              "      <th id=\"T_4842d_level0_row92\" class=\"row_heading level0 row92\" >92</th>\n",
              "      <td id=\"T_4842d_row92_col0\" class=\"data row92 col0\" >X92</td>\n",
              "      <td id=\"T_4842d_row92_col1\" class=\"data row92 col1\" > Degree of Financial Leverage (DFL)</td>\n",
              "    </tr>\n",
              "    <tr>\n",
              "      <th id=\"T_4842d_level0_row93\" class=\"row_heading level0 row93\" >93</th>\n",
              "      <td id=\"T_4842d_row93_col0\" class=\"data row93 col0\" >X93</td>\n",
              "      <td id=\"T_4842d_row93_col1\" class=\"data row93 col1\" > Interest Coverage Ratio (Interest expense to EBIT)</td>\n",
              "    </tr>\n",
              "    <tr>\n",
              "      <th id=\"T_4842d_level0_row94\" class=\"row_heading level0 row94\" >94</th>\n",
              "      <td id=\"T_4842d_row94_col0\" class=\"data row94 col0\" >X94</td>\n",
              "      <td id=\"T_4842d_row94_col1\" class=\"data row94 col1\" > Net Income Flag</td>\n",
              "    </tr>\n",
              "    <tr>\n",
              "      <th id=\"T_4842d_level0_row95\" class=\"row_heading level0 row95\" >95</th>\n",
              "      <td id=\"T_4842d_row95_col0\" class=\"data row95 col0\" >X95</td>\n",
              "      <td id=\"T_4842d_row95_col1\" class=\"data row95 col1\" > Equity to Liability</td>\n",
              "    </tr>\n",
              "  </tbody>\n",
              "</table>\n"
            ]
          },
          "metadata": {},
          "execution_count": 6
        }
      ],
      "source": [
        "column_names_df.style"
      ]
    },
    {
      "cell_type": "markdown",
      "metadata": {
        "papermill": {
          "duration": 0.024282,
          "end_time": "2021-03-17T01:37:17.151446",
          "exception": false,
          "start_time": "2021-03-17T01:37:17.127164",
          "status": "completed"
        },
        "tags": [],
        "id": "hOBAUL6zVK-L"
      },
      "source": [
        "<a id=\"Preprocessing-Data\"></a>\n",
        "# Preprocessing Data"
      ]
    },
    {
      "cell_type": "code",
      "execution_count": null,
      "metadata": {
        "execution": {
          "iopub.execute_input": "2021-03-17T01:37:17.205661Z",
          "iopub.status.busy": "2021-03-17T01:37:17.205048Z",
          "iopub.status.idle": "2021-03-17T01:37:17.221042Z",
          "shell.execute_reply": "2021-03-17T01:37:17.221550Z"
        },
        "papermill": {
          "duration": 0.043193,
          "end_time": "2021-03-17T01:37:17.221742",
          "exception": false,
          "start_time": "2021-03-17T01:37:17.178549",
          "status": "completed"
        },
        "tags": [],
        "colab": {
          "base_uri": "https://localhost:8080/"
        },
        "id": "9XkrB3AsVK-L",
        "outputId": "42e44148-2c2f-4cb2-876d-a3cef7d500d6"
      },
      "outputs": [
        {
          "output_type": "stream",
          "name": "stdout",
          "text": [
            "0    6599\n",
            "1     220\n",
            "Name: Y, dtype: int64\n",
            "\n",
            "\n",
            "0    6811\n",
            "1       8\n",
            "Name: X85, dtype: int64\n",
            "\n",
            "\n",
            "1    6819\n",
            "Name: X94, dtype: int64\n",
            "\n",
            "\n"
          ]
        }
      ],
      "source": [
        "for int_column in data_csv.select_dtypes(include=\"int64\"):\n",
        "    print(data_csv[int_column].value_counts())\n",
        "    print(\"\\n\")\n",
        "\n",
        "# drop column C94 for being a useless feature, only value is 1 \n",
        "data_csv = data_csv.drop(\"X94\",axis = \"columns\")\n",
        "\n",
        "# this dataset is imbalance 6599 ones and 220 zeroes"
      ]
    },
    {
      "cell_type": "markdown",
      "metadata": {
        "papermill": {
          "duration": 0.027227,
          "end_time": "2021-03-17T01:37:17.273321",
          "exception": false,
          "start_time": "2021-03-17T01:37:17.246094",
          "status": "completed"
        },
        "tags": [],
        "id": "YMPpTDgTVK-L"
      },
      "source": [
        "label encoding does not need to be used here as the columns are already fine. The categorical variables can stay as int64 type as they are only binary variables. "
      ]
    },
    {
      "cell_type": "markdown",
      "metadata": {
        "papermill": {
          "duration": 0.024663,
          "end_time": "2021-03-17T01:37:17.326120",
          "exception": false,
          "start_time": "2021-03-17T01:37:17.301457",
          "status": "completed"
        },
        "tags": [],
        "id": "XaeWon6bVK-L"
      },
      "source": [
        "<a id=\"#Train-Test-Stratified-Split\"></a>\n",
        "## Train-Test Stratified Split"
      ]
    },
    {
      "cell_type": "code",
      "execution_count": null,
      "metadata": {
        "execution": {
          "iopub.execute_input": "2021-03-17T01:37:17.388872Z",
          "iopub.status.busy": "2021-03-17T01:37:17.388150Z",
          "iopub.status.idle": "2021-03-17T01:37:17.409714Z",
          "shell.execute_reply": "2021-03-17T01:37:17.409194Z"
        },
        "papermill": {
          "duration": 0.05819,
          "end_time": "2021-03-17T01:37:17.409856",
          "exception": false,
          "start_time": "2021-03-17T01:37:17.351666",
          "status": "completed"
        },
        "tags": [],
        "colab": {
          "base_uri": "https://localhost:8080/"
        },
        "id": "yBTh9BtKVK-L",
        "outputId": "fd4f5eb6-0a6c-4d84-b983-833989599da9"
      },
      "outputs": [
        {
          "output_type": "stream",
          "name": "stdout",
          "text": [
            "0    5279\n",
            "1     176\n",
            "Name: Y, dtype: int64\n",
            "\n",
            "\n",
            "0    1320\n",
            "1      44\n",
            "Name: Y, dtype: int64\n"
          ]
        }
      ],
      "source": [
        "# Create test and train set 80-20\n",
        "\n",
        "#  Sepearte features and target from data_csv\n",
        "X = data_csv.drop(\"Y\",axis = \"columns\")\n",
        "y = data_csv[\"Y\"]\n",
        "\n",
        "#   train-test stratified split using 80-20 \n",
        "train_X, valid_X, train_y, valid_y = train_test_split(X, y, test_size=0.2, random_state = 0, shuffle= True,stratify = y)\n",
        "\n",
        "# By using a stratified split, the raito of 1 and 0s are consistent btwn the two splits \n",
        "print(train_y.value_counts())\n",
        "print(\"\\n\")\n",
        "print(valid_y.value_counts())"
      ]
    },
    {
      "cell_type": "code",
      "source": [
        "valid_X.head()"
      ],
      "metadata": {
        "colab": {
          "base_uri": "https://localhost:8080/",
          "height": 299
        },
        "id": "5GCJ7Wwyc2l8",
        "outputId": "88efe4fc-cbea-4ca5-81bd-ed8ac4a7de15"
      },
      "execution_count": null,
      "outputs": [
        {
          "output_type": "execute_result",
          "data": {
            "text/plain": [
              "            X1        X2        X3        X4        X5        X6        X7  \\\n",
              "4488  0.574514  0.642826  0.627014  0.601270  0.601270  0.999051  0.797484   \n",
              "2195  0.479988  0.534671  0.529043  0.598589  0.598589  0.998907  0.797383   \n",
              "4150  0.499196  0.533908  0.543391  0.605933  0.605933  0.998983  0.797392   \n",
              "1117  0.500609  0.555113  0.543980  0.601875  0.601875  0.999009  0.797427   \n",
              "1179  0.360796  0.400403  0.398094  0.597025  0.597025  0.998804  0.796708   \n",
              "\n",
              "            X8        X9       X10  ...  X85       X86       X87       X88  \\\n",
              "4488  0.809396  0.303519  0.781661  ...    0  0.853422  0.007175  0.624243   \n",
              "2195  0.809310  0.303643  0.781569  ...    0  0.796381  0.000647  0.623675   \n",
              "4150  0.809312  0.303499  0.781574  ...    0  0.797545  0.001210  0.623799   \n",
              "1117  0.809338  0.303506  0.781597  ...    0  0.808696  0.000933  0.624085   \n",
              "1179  0.808651  0.302679  0.780851  ...    0  0.701107  0.010522  0.623389   \n",
              "\n",
              "           X89       X90       X91       X92       X93       X95  \n",
              "4488  0.601268  0.844143  0.278354  0.026791  0.565158  0.036589  \n",
              "2195  0.598586  0.840068  0.277343  0.033635  0.569523  0.046597  \n",
              "4150  0.605931  0.840150  0.277935  0.026924  0.565723  0.039983  \n",
              "1117  0.601874  0.840929  0.278109  0.026863  0.565479  0.038475  \n",
              "1179  0.597026  0.830591  0.282426  0.026670  0.564509  0.022732  \n",
              "\n",
              "[5 rows x 94 columns]"
            ],
            "text/html": [
              "\n",
              "  <div id=\"df-072071d6-f62a-4737-848c-5d3ceb976723\">\n",
              "    <div class=\"colab-df-container\">\n",
              "      <div>\n",
              "<style scoped>\n",
              "    .dataframe tbody tr th:only-of-type {\n",
              "        vertical-align: middle;\n",
              "    }\n",
              "\n",
              "    .dataframe tbody tr th {\n",
              "        vertical-align: top;\n",
              "    }\n",
              "\n",
              "    .dataframe thead th {\n",
              "        text-align: right;\n",
              "    }\n",
              "</style>\n",
              "<table border=\"1\" class=\"dataframe\">\n",
              "  <thead>\n",
              "    <tr style=\"text-align: right;\">\n",
              "      <th></th>\n",
              "      <th>X1</th>\n",
              "      <th>X2</th>\n",
              "      <th>X3</th>\n",
              "      <th>X4</th>\n",
              "      <th>X5</th>\n",
              "      <th>X6</th>\n",
              "      <th>X7</th>\n",
              "      <th>X8</th>\n",
              "      <th>X9</th>\n",
              "      <th>X10</th>\n",
              "      <th>...</th>\n",
              "      <th>X85</th>\n",
              "      <th>X86</th>\n",
              "      <th>X87</th>\n",
              "      <th>X88</th>\n",
              "      <th>X89</th>\n",
              "      <th>X90</th>\n",
              "      <th>X91</th>\n",
              "      <th>X92</th>\n",
              "      <th>X93</th>\n",
              "      <th>X95</th>\n",
              "    </tr>\n",
              "  </thead>\n",
              "  <tbody>\n",
              "    <tr>\n",
              "      <th>4488</th>\n",
              "      <td>0.574514</td>\n",
              "      <td>0.642826</td>\n",
              "      <td>0.627014</td>\n",
              "      <td>0.601270</td>\n",
              "      <td>0.601270</td>\n",
              "      <td>0.999051</td>\n",
              "      <td>0.797484</td>\n",
              "      <td>0.809396</td>\n",
              "      <td>0.303519</td>\n",
              "      <td>0.781661</td>\n",
              "      <td>...</td>\n",
              "      <td>0</td>\n",
              "      <td>0.853422</td>\n",
              "      <td>0.007175</td>\n",
              "      <td>0.624243</td>\n",
              "      <td>0.601268</td>\n",
              "      <td>0.844143</td>\n",
              "      <td>0.278354</td>\n",
              "      <td>0.026791</td>\n",
              "      <td>0.565158</td>\n",
              "      <td>0.036589</td>\n",
              "    </tr>\n",
              "    <tr>\n",
              "      <th>2195</th>\n",
              "      <td>0.479988</td>\n",
              "      <td>0.534671</td>\n",
              "      <td>0.529043</td>\n",
              "      <td>0.598589</td>\n",
              "      <td>0.598589</td>\n",
              "      <td>0.998907</td>\n",
              "      <td>0.797383</td>\n",
              "      <td>0.809310</td>\n",
              "      <td>0.303643</td>\n",
              "      <td>0.781569</td>\n",
              "      <td>...</td>\n",
              "      <td>0</td>\n",
              "      <td>0.796381</td>\n",
              "      <td>0.000647</td>\n",
              "      <td>0.623675</td>\n",
              "      <td>0.598586</td>\n",
              "      <td>0.840068</td>\n",
              "      <td>0.277343</td>\n",
              "      <td>0.033635</td>\n",
              "      <td>0.569523</td>\n",
              "      <td>0.046597</td>\n",
              "    </tr>\n",
              "    <tr>\n",
              "      <th>4150</th>\n",
              "      <td>0.499196</td>\n",
              "      <td>0.533908</td>\n",
              "      <td>0.543391</td>\n",
              "      <td>0.605933</td>\n",
              "      <td>0.605933</td>\n",
              "      <td>0.998983</td>\n",
              "      <td>0.797392</td>\n",
              "      <td>0.809312</td>\n",
              "      <td>0.303499</td>\n",
              "      <td>0.781574</td>\n",
              "      <td>...</td>\n",
              "      <td>0</td>\n",
              "      <td>0.797545</td>\n",
              "      <td>0.001210</td>\n",
              "      <td>0.623799</td>\n",
              "      <td>0.605931</td>\n",
              "      <td>0.840150</td>\n",
              "      <td>0.277935</td>\n",
              "      <td>0.026924</td>\n",
              "      <td>0.565723</td>\n",
              "      <td>0.039983</td>\n",
              "    </tr>\n",
              "    <tr>\n",
              "      <th>1117</th>\n",
              "      <td>0.500609</td>\n",
              "      <td>0.555113</td>\n",
              "      <td>0.543980</td>\n",
              "      <td>0.601875</td>\n",
              "      <td>0.601875</td>\n",
              "      <td>0.999009</td>\n",
              "      <td>0.797427</td>\n",
              "      <td>0.809338</td>\n",
              "      <td>0.303506</td>\n",
              "      <td>0.781597</td>\n",
              "      <td>...</td>\n",
              "      <td>0</td>\n",
              "      <td>0.808696</td>\n",
              "      <td>0.000933</td>\n",
              "      <td>0.624085</td>\n",
              "      <td>0.601874</td>\n",
              "      <td>0.840929</td>\n",
              "      <td>0.278109</td>\n",
              "      <td>0.026863</td>\n",
              "      <td>0.565479</td>\n",
              "      <td>0.038475</td>\n",
              "    </tr>\n",
              "    <tr>\n",
              "      <th>1179</th>\n",
              "      <td>0.360796</td>\n",
              "      <td>0.400403</td>\n",
              "      <td>0.398094</td>\n",
              "      <td>0.597025</td>\n",
              "      <td>0.597025</td>\n",
              "      <td>0.998804</td>\n",
              "      <td>0.796708</td>\n",
              "      <td>0.808651</td>\n",
              "      <td>0.302679</td>\n",
              "      <td>0.780851</td>\n",
              "      <td>...</td>\n",
              "      <td>0</td>\n",
              "      <td>0.701107</td>\n",
              "      <td>0.010522</td>\n",
              "      <td>0.623389</td>\n",
              "      <td>0.597026</td>\n",
              "      <td>0.830591</td>\n",
              "      <td>0.282426</td>\n",
              "      <td>0.026670</td>\n",
              "      <td>0.564509</td>\n",
              "      <td>0.022732</td>\n",
              "    </tr>\n",
              "  </tbody>\n",
              "</table>\n",
              "<p>5 rows × 94 columns</p>\n",
              "</div>\n",
              "      <button class=\"colab-df-convert\" onclick=\"convertToInteractive('df-072071d6-f62a-4737-848c-5d3ceb976723')\"\n",
              "              title=\"Convert this dataframe to an interactive table.\"\n",
              "              style=\"display:none;\">\n",
              "        \n",
              "  <svg xmlns=\"http://www.w3.org/2000/svg\" height=\"24px\"viewBox=\"0 0 24 24\"\n",
              "       width=\"24px\">\n",
              "    <path d=\"M0 0h24v24H0V0z\" fill=\"none\"/>\n",
              "    <path d=\"M18.56 5.44l.94 2.06.94-2.06 2.06-.94-2.06-.94-.94-2.06-.94 2.06-2.06.94zm-11 1L8.5 8.5l.94-2.06 2.06-.94-2.06-.94L8.5 2.5l-.94 2.06-2.06.94zm10 10l.94 2.06.94-2.06 2.06-.94-2.06-.94-.94-2.06-.94 2.06-2.06.94z\"/><path d=\"M17.41 7.96l-1.37-1.37c-.4-.4-.92-.59-1.43-.59-.52 0-1.04.2-1.43.59L10.3 9.45l-7.72 7.72c-.78.78-.78 2.05 0 2.83L4 21.41c.39.39.9.59 1.41.59.51 0 1.02-.2 1.41-.59l7.78-7.78 2.81-2.81c.8-.78.8-2.07 0-2.86zM5.41 20L4 18.59l7.72-7.72 1.47 1.35L5.41 20z\"/>\n",
              "  </svg>\n",
              "      </button>\n",
              "      \n",
              "  <style>\n",
              "    .colab-df-container {\n",
              "      display:flex;\n",
              "      flex-wrap:wrap;\n",
              "      gap: 12px;\n",
              "    }\n",
              "\n",
              "    .colab-df-convert {\n",
              "      background-color: #E8F0FE;\n",
              "      border: none;\n",
              "      border-radius: 50%;\n",
              "      cursor: pointer;\n",
              "      display: none;\n",
              "      fill: #1967D2;\n",
              "      height: 32px;\n",
              "      padding: 0 0 0 0;\n",
              "      width: 32px;\n",
              "    }\n",
              "\n",
              "    .colab-df-convert:hover {\n",
              "      background-color: #E2EBFA;\n",
              "      box-shadow: 0px 1px 2px rgba(60, 64, 67, 0.3), 0px 1px 3px 1px rgba(60, 64, 67, 0.15);\n",
              "      fill: #174EA6;\n",
              "    }\n",
              "\n",
              "    [theme=dark] .colab-df-convert {\n",
              "      background-color: #3B4455;\n",
              "      fill: #D2E3FC;\n",
              "    }\n",
              "\n",
              "    [theme=dark] .colab-df-convert:hover {\n",
              "      background-color: #434B5C;\n",
              "      box-shadow: 0px 1px 3px 1px rgba(0, 0, 0, 0.15);\n",
              "      filter: drop-shadow(0px 1px 2px rgba(0, 0, 0, 0.3));\n",
              "      fill: #FFFFFF;\n",
              "    }\n",
              "  </style>\n",
              "\n",
              "      <script>\n",
              "        const buttonEl =\n",
              "          document.querySelector('#df-072071d6-f62a-4737-848c-5d3ceb976723 button.colab-df-convert');\n",
              "        buttonEl.style.display =\n",
              "          google.colab.kernel.accessAllowed ? 'block' : 'none';\n",
              "\n",
              "        async function convertToInteractive(key) {\n",
              "          const element = document.querySelector('#df-072071d6-f62a-4737-848c-5d3ceb976723');\n",
              "          const dataTable =\n",
              "            await google.colab.kernel.invokeFunction('convertToInteractive',\n",
              "                                                     [key], {});\n",
              "          if (!dataTable) return;\n",
              "\n",
              "          const docLinkHtml = 'Like what you see? Visit the ' +\n",
              "            '<a target=\"_blank\" href=https://colab.research.google.com/notebooks/data_table.ipynb>data table notebook</a>'\n",
              "            + ' to learn more about interactive tables.';\n",
              "          element.innerHTML = '';\n",
              "          dataTable['output_type'] = 'display_data';\n",
              "          await google.colab.output.renderOutput(dataTable, element);\n",
              "          const docLink = document.createElement('div');\n",
              "          docLink.innerHTML = docLinkHtml;\n",
              "          element.appendChild(docLink);\n",
              "        }\n",
              "      </script>\n",
              "    </div>\n",
              "  </div>\n",
              "  "
            ]
          },
          "metadata": {},
          "execution_count": 9
        }
      ]
    },
    {
      "cell_type": "markdown",
      "metadata": {
        "papermill": {
          "duration": 0.026063,
          "end_time": "2021-03-17T01:37:17.460715",
          "exception": false,
          "start_time": "2021-03-17T01:37:17.434652",
          "status": "completed"
        },
        "tags": [],
        "id": "_ZFjQttNVK-M"
      },
      "source": [
        "# Model Metrics\n",
        "Created several functions to help evalaute a model's performance such as confusion matrix, accuarcy, recall, and F1-score.    "
      ]
    },
    {
      "cell_type": "code",
      "execution_count": null,
      "metadata": {
        "execution": {
          "iopub.execute_input": "2021-03-17T01:37:17.528324Z",
          "iopub.status.busy": "2021-03-17T01:37:17.527309Z",
          "iopub.status.idle": "2021-03-17T01:37:17.530573Z",
          "shell.execute_reply": "2021-03-17T01:37:17.529979Z"
        },
        "papermill": {
          "duration": 0.042438,
          "end_time": "2021-03-17T01:37:17.530732",
          "exception": false,
          "start_time": "2021-03-17T01:37:17.488294",
          "status": "completed"
        },
        "tags": [],
        "id": "meL2lPWaVK-M"
      },
      "outputs": [],
      "source": [
        "# Great Function found on Kaggle for plotting a Confusion Matrix\n",
        "# https://www.kaggle.com/grfiv4/plot-a-confusion-matrix\n",
        "def plot_confusion_matrix_kaggle(cm,\n",
        "                          target_names,\n",
        "                          title='Confusion matrix',\n",
        "                          cmap=None,\n",
        "                          normalize=True):\n",
        "    \"\"\"\n",
        "    given a sklearn confusion matrix (cm), make a nice plot\n",
        "\n",
        "    Arguments\n",
        "    ---------\n",
        "    cm:           confusion matrix from sklearn.metrics.confusion_matrix\n",
        "\n",
        "    target_names: given classification classes such as [0, 1, 2]\n",
        "                  the class names, for example: ['high', 'medium', 'low']\n",
        "\n",
        "    title:        the text to display at the top of the matrix\n",
        "\n",
        "    cmap:         the gradient of the values displayed from matplotlib.pyplot.cm\n",
        "                  see http://matplotlib.org/examples/color/colormaps_reference.html\n",
        "                  plt.get_cmap('jet') or plt.cm.Blues\n",
        "\n",
        "    normalize:    If False, plot the raw numbers\n",
        "                  If True, plot the proportions\n",
        "\n",
        "    Usage\n",
        "    -----\n",
        "    plot_confusion_matrix(cm           = cm,                  # confusion matrix created by\n",
        "                                                              # sklearn.metrics.confusion_matrix\n",
        "                          normalize    = True,                # show proportions\n",
        "                          target_names = y_labels_vals,       # list of names of the classes\n",
        "                          title        = best_estimator_name) # title of graph\n",
        "\n",
        "    Citiation\n",
        "    ---------\n",
        "    http://scikit-learn.org/stable/auto_examples/model_selection/plot_confusion_matrix.html\n",
        "\n",
        "    \"\"\"\n",
        "    import matplotlib.pyplot as plt\n",
        "    import numpy as np\n",
        "    import itertools\n",
        "\n",
        "    accuracy = np.trace(cm) / float(np.sum(cm))\n",
        "    misclass = 1 - accuracy\n",
        "\n",
        "    if cmap is None:\n",
        "        cmap = plt.get_cmap('Blues')\n",
        "\n",
        "    plt.figure(figsize=(8, 6))\n",
        "    plt.imshow(cm, interpolation='nearest', cmap=cmap)\n",
        "    plt.title(title)\n",
        "    plt.colorbar()\n",
        "\n",
        "    if target_names is not None:\n",
        "        tick_marks = np.arange(len(target_names))\n",
        "        plt.xticks(tick_marks, target_names, rotation=45)\n",
        "        plt.yticks(tick_marks, target_names)\n",
        "\n",
        "    if normalize:\n",
        "        cm = cm.astype('float') / cm.sum(axis=1)[:, np.newaxis]\n",
        "\n",
        "\n",
        "    thresh = cm.max() / 1.5 if normalize else cm.max() / 2\n",
        "    for i, j in itertools.product(range(cm.shape[0]), range(cm.shape[1])):\n",
        "        if normalize:\n",
        "            plt.text(j, i, \"{:0.4f}\".format(cm[i, j]),\n",
        "                     horizontalalignment=\"center\",\n",
        "                     color=\"white\" if cm[i, j] > thresh else \"black\")\n",
        "        else:\n",
        "            plt.text(j, i, \"{:,}\".format(cm[i, j]),\n",
        "                     horizontalalignment=\"center\",\n",
        "                     color=\"white\" if cm[i, j] > thresh else \"black\")\n",
        "\n",
        "\n",
        "    plt.tight_layout()\n",
        "    plt.ylabel('True label')\n",
        "    plt.xlabel('Predicted label\\naccuracy={:0.4f}; misclass={:0.4f}'.format(accuracy, misclass))\n",
        "    plt.show()\n",
        "    \n",
        "# binarize an array based of a threshold \n",
        "def binarizeArray(array,threshold = 0.5):\n",
        "    return [0 if num < threshold else 1 for num in array]"
      ]
    },
    {
      "cell_type": "markdown",
      "metadata": {
        "papermill": {
          "duration": 0.027338,
          "end_time": "2021-03-17T01:37:17.582895",
          "exception": false,
          "start_time": "2021-03-17T01:37:17.555557",
          "status": "completed"
        },
        "tags": [],
        "id": "Nqp_A_BrVK-M"
      },
      "source": [
        "<a id=\"Initial Models\"></a>\n",
        "# Initial Models\n",
        "Applied different machine learning algorthims to test which model perform better on this dataset. Listed below are the various machine learning techniques applied in this section.\n",
        "\n",
        "1. Logistic Regression\n",
        "2. XGBoost Classifier\n",
        "3. Random Forest Classifier\n",
        "5. LightGBM Classifier"
      ]
    },
    {
      "cell_type": "code",
      "execution_count": null,
      "metadata": {
        "execution": {
          "iopub.execute_input": "2021-03-17T01:37:17.642600Z",
          "iopub.status.busy": "2021-03-17T01:37:17.641425Z",
          "iopub.status.idle": "2021-03-17T01:37:22.105554Z",
          "shell.execute_reply": "2021-03-17T01:37:22.104898Z"
        },
        "papermill": {
          "duration": 4.498196,
          "end_time": "2021-03-17T01:37:22.105751",
          "exception": false,
          "start_time": "2021-03-17T01:37:17.607555",
          "status": "completed"
        },
        "tags": [],
        "id": "eaCh14QjVK-M"
      },
      "outputs": [],
      "source": [
        "# Create initial models\n",
        "LogReg = LogisticRegression(random_state=0).fit(train_X, train_y)\n",
        "XGBClass = xgb.XGBClassifier(eval_metric  = \"logloss\", max_depth=5, learning_rate=0.01, n_estimators=100, gamma=0, \n",
        "                        min_child_weight=1, subsample=0.8, colsample_bytree=0.8, reg_alpha=0.005,seed = 0).fit(train_X,train_y)\n",
        "RFClass = RandomForestClassifier(n_estimators = 50, max_depth = 50,n_jobs = -1, random_state = 0).fit(train_X,train_y)\n",
        "LGBMClass = LGBMClassifier(random_state=0).fit(train_X, train_y)"
      ]
    },
    {
      "cell_type": "code",
      "execution_count": null,
      "metadata": {
        "execution": {
          "iopub.execute_input": "2021-03-17T01:37:22.169414Z",
          "iopub.status.busy": "2021-03-17T01:37:22.168324Z",
          "iopub.status.idle": "2021-03-17T01:37:22.330367Z",
          "shell.execute_reply": "2021-03-17T01:37:22.330860Z"
        },
        "papermill": {
          "duration": 0.197845,
          "end_time": "2021-03-17T01:37:22.331052",
          "exception": false,
          "start_time": "2021-03-17T01:37:22.133207",
          "status": "completed"
        },
        "tags": [],
        "colab": {
          "base_uri": "https://localhost:8080/"
        },
        "id": "QRHXFyGrVK-M",
        "outputId": "05cb7923-f155-4956-ec31-e1a9d5a1e31e"
      },
      "outputs": [
        {
          "output_type": "stream",
          "name": "stdout",
          "text": [
            "                    Logistic Regression\n",
            "              precision    recall  f1-score   support\n",
            "\n",
            "           0      0.968     0.999     0.984      1320\n",
            "           1      0.500     0.023     0.043        44\n",
            "\n",
            "    accuracy                          0.968      1364\n",
            "   macro avg      0.734     0.511     0.514      1364\n",
            "weighted avg      0.953     0.968     0.953      1364\n",
            "\n",
            "                    XGBoost Classifier\n",
            "              precision    recall  f1-score   support\n",
            "\n",
            "           0      0.974     0.992     0.983      1320\n",
            "           1      0.450     0.205     0.281        44\n",
            "\n",
            "    accuracy                          0.966      1364\n",
            "   macro avg      0.712     0.598     0.632      1364\n",
            "weighted avg      0.957     0.966     0.960      1364\n",
            "\n",
            "                    Random Forest Classifier\n",
            "              precision    recall  f1-score   support\n",
            "\n",
            "           0      0.975     0.994     0.984      1320\n",
            "           1      0.556     0.227     0.323        44\n",
            "\n",
            "    accuracy                          0.969      1364\n",
            "   macro avg      0.765     0.611     0.653      1364\n",
            "weighted avg      0.961     0.969     0.963      1364\n",
            "\n",
            "                    LightGBM Classifier\n",
            "              precision    recall  f1-score   support\n",
            "\n",
            "           0      0.978     0.994     0.986      1320\n",
            "           1      0.652     0.341     0.448        44\n",
            "\n",
            "    accuracy                          0.973      1364\n",
            "   macro avg      0.815     0.667     0.717      1364\n",
            "weighted avg      0.968     0.973     0.969      1364\n",
            "\n"
          ]
        }
      ],
      "source": [
        "# initial models performance on Test Data \n",
        "    \n",
        "pred_y = LogReg.predict(valid_X)\n",
        "print(\"                    Logistic Regression\")\n",
        "print(classification_report(valid_y,pred_y,digits=3))\n",
        "\n",
        "pred_y = XGBClass.predict(valid_X)\n",
        "print(\"                    XGBoost Classifier\")\n",
        "print(classification_report(valid_y,pred_y,digits=3))\n",
        "\n",
        "pred_y = RFClass.predict(valid_X)\n",
        "print(\"                    Random Forest Classifier\")\n",
        "print(classification_report(valid_y,pred_y,digits=3))\n",
        "\n",
        "pred_y = LGBMClass.predict(valid_X)\n",
        "print(\"                    LightGBM Classifier\")\n",
        "print(classification_report(valid_y,pred_y,digits=3))"
      ]
    },
    {
      "cell_type": "code",
      "source": [
        "valid_X.shape"
      ],
      "metadata": {
        "colab": {
          "base_uri": "https://localhost:8080/"
        },
        "id": "LSe0wc_1i_fD",
        "outputId": "1dbcdf4a-b836-43a6-8df0-a91e15123517"
      },
      "execution_count": null,
      "outputs": [
        {
          "output_type": "execute_result",
          "data": {
            "text/plain": [
              "(1364, 94)"
            ]
          },
          "metadata": {},
          "execution_count": 29
        }
      ]
    },
    {
      "cell_type": "code",
      "source": [
        "train_X.shape"
      ],
      "metadata": {
        "colab": {
          "base_uri": "https://localhost:8080/"
        },
        "id": "C68V_RADmReB",
        "outputId": "62c6010f-5770-441c-c218-b6eb9ebb2583"
      },
      "execution_count": null,
      "outputs": [
        {
          "output_type": "execute_result",
          "data": {
            "text/plain": [
              "(5455, 94)"
            ]
          },
          "metadata": {},
          "execution_count": 30
        }
      ]
    },
    {
      "cell_type": "markdown",
      "metadata": {
        "papermill": {
          "duration": 0.028731,
          "end_time": "2021-03-17T01:37:22.386370",
          "exception": false,
          "start_time": "2021-03-17T01:37:22.357639",
          "status": "completed"
        },
        "tags": [],
        "id": "4WSasdXuVK-M"
      },
      "source": [
        "Focus on F1-score for 1. It can be seen that it is difficult to determine if a company files bankruptcy. \n",
        "\n",
        "LightGBM Classifier perform the best so we proceeded to implement hyperparameter optimization onto LightGBM.  "
      ]
    },
    {
      "cell_type": "markdown",
      "metadata": {
        "papermill": {
          "duration": 0.024916,
          "end_time": "2021-03-17T01:37:22.437013",
          "exception": false,
          "start_time": "2021-03-17T01:37:22.412097",
          "status": "completed"
        },
        "tags": [],
        "id": "9xGXmVm2VK-N"
      },
      "source": [
        "<a id=\"LightGBM-Classifier\"></a>\n",
        "# LightGBM Classifier"
      ]
    },
    {
      "cell_type": "code",
      "execution_count": null,
      "metadata": {
        "execution": {
          "iopub.execute_input": "2021-03-17T01:37:22.499842Z",
          "iopub.status.busy": "2021-03-17T01:37:22.498785Z",
          "iopub.status.idle": "2021-03-17T01:37:22.501994Z",
          "shell.execute_reply": "2021-03-17T01:37:22.501365Z"
        },
        "papermill": {
          "duration": 0.036382,
          "end_time": "2021-03-17T01:37:22.502143",
          "exception": false,
          "start_time": "2021-03-17T01:37:22.465761",
          "status": "completed"
        },
        "tags": [],
        "id": "al6MZdkuVK-N"
      },
      "outputs": [],
      "source": [
        "##% parameter tuning for lightgbm \n",
        "# store the catagorical features names as a list      \n",
        "cat_features = data_csv.select_dtypes(['object']).columns.to_list()\n",
        "# print(cat_features)\n",
        "\n",
        "# Create the LightGBM data containers\n",
        "# Make sure that cat_features are used\n",
        "train_lgbdata=lgb.Dataset(train_X,label=train_y, categorical_feature = cat_features,free_raw_data=False)\n",
        "test_lgbdata=lgb.Dataset(valid_X,label=valid_y, categorical_feature = cat_features,free_raw_data=False)"
      ]
    },
    {
      "cell_type": "markdown",
      "metadata": {
        "papermill": {
          "duration": 0.025337,
          "end_time": "2021-03-17T01:37:22.553111",
          "exception": false,
          "start_time": "2021-03-17T01:37:22.527774",
          "status": "completed"
        },
        "tags": [],
        "id": "2hynL8fvVK-N"
      },
      "source": [
        "<a id=\"Bayesian-Optimization\"></a>\n",
        "## Bayesian Optimization"
      ]
    },
    {
      "cell_type": "code",
      "execution_count": null,
      "metadata": {
        "execution": {
          "iopub.execute_input": "2021-03-17T01:37:22.621526Z",
          "iopub.status.busy": "2021-03-17T01:37:22.620497Z",
          "iopub.status.idle": "2021-03-17T01:37:22.623990Z",
          "shell.execute_reply": "2021-03-17T01:37:22.623443Z"
        },
        "papermill": {
          "duration": 0.045499,
          "end_time": "2021-03-17T01:37:22.624153",
          "exception": false,
          "start_time": "2021-03-17T01:37:22.578654",
          "status": "completed"
        },
        "tags": [],
        "id": "RD7FA0SAVK-N"
      },
      "outputs": [],
      "source": [
        "# https://github.com/fmfn/BayesianOptimization\n",
        "def search_best_param(X,y,cat_features):\n",
        "    \n",
        "    trainXY = lgb.Dataset(data=X, label=y,categorical_feature = cat_features,free_raw_data=False)\n",
        "    # define the lightGBM cross validation\n",
        "    def lightGBM_CV(max_depth, num_leaves, n_estimators, learning_rate, subsample, colsample_bytree, \n",
        "                lambda_l1, lambda_l2, min_child_weight):\n",
        "    \n",
        "        params = {'boosting_type': 'gbdt', 'objective': 'binary', 'metric':'auc', 'verbose': -1,\n",
        "                  'early_stopping_round':100}\n",
        "        \n",
        "        params['max_depth'] = int(round(max_depth))\n",
        "        params[\"num_leaves\"] = int(round(num_leaves))\n",
        "        params[\"n_estimators\"] = int(round(n_estimators))\n",
        "        params['learning_rate'] = learning_rate\n",
        "        params['subsample'] = subsample\n",
        "        params['colsample_bytree'] = colsample_bytree\n",
        "        params['lambda_l1'] = max(lambda_l1, 0)\n",
        "        params['lambda_l2'] = max(lambda_l2, 0)\n",
        "        params['min_child_weight'] = min_child_weight\n",
        "    \n",
        "        score = lgb.cv(params, trainXY, nfold=5, seed=1, stratified=True, verbose_eval =False, metrics=['auc'])\n",
        "        return np.mean(score['auc-mean']) # maximize auc-mean\n",
        "\n",
        "    # use bayesian optimization to search for the best hyper-parameter combination\n",
        "    # 1. Optimal    2.  FASTTTTTTTTTTTTTT very nice- bayesian optimization\n",
        "    # 5 - 50   to choose any value bw 5 and 50 acc to the mathematical bayes, 5.6 , 44.2,   it does not test every value 5,6,7,8,= 45 values and laptop die\n",
        "    lightGBM_Bo = BayesianOptimization(lightGBM_CV,               \n",
        "                                       {\n",
        "                                          'max_depth': (5, 50),\n",
        "                                          'num_leaves': (20, 100),\n",
        "                                          'n_estimators': (50, 500),\n",
        "                                          'learning_rate': (0.01, 0.3),\n",
        "                                          'subsample': (0.7, 0.8),\n",
        "                                          'colsample_bytree' :(0.5, 0.99),\n",
        "                                          'lambda_l1': (0, 5),\n",
        "                                          'lambda_l2': (0, 3),\n",
        "                                          'min_child_weight': (2, 50) \n",
        "                                      },\n",
        "                                       random_state = 1,\n",
        "                                       verbose = 3\n",
        "                                      )\n",
        "    np.random.seed(1)\n",
        "    \n",
        "    lightGBM_Bo.maximize(init_points= 5, n_iter=5) # 5 + 5, 10 iterations \n",
        "    # n_iter: How many steps of bayesian optimization you want to perform. The more steps the more likely to find a good maximum you are.\n",
        "    # init_points: How many steps of random exploration you want to perform. Random exploration can help by diversifying the exploration space.\n",
        "    # more iterations more time spent searching \n",
        "    \n",
        "    params_set = lightGBM_Bo.max['params']\n",
        "    \n",
        "    # get the params of the maximum target     \n",
        "    max_target = -np.inf\n",
        "    for i in lightGBM_Bo.res: # loop thru all the residuals \n",
        "        if i['target'] > max_target:\n",
        "            params_set = i['params']\n",
        "            max_target = i['target']\n",
        "    \n",
        "    params_set.update({'verbose': -1})\n",
        "    params_set.update({'metric': 'auc'})\n",
        "    params_set.update({'boosting_type': 'gbdt'})\n",
        "    params_set.update({'objective': 'binary'})\n",
        "    \n",
        "    params_set['max_depth'] = int(round(params_set['max_depth']))\n",
        "    params_set['num_leaves'] = int(round(params_set['num_leaves']))\n",
        "    params_set['n_estimators'] = int(round(params_set['n_estimators']))\n",
        "    params_set['seed'] = 1 #set seed\n",
        "    \n",
        "    return params_set"
      ]
    },
    {
      "cell_type": "code",
      "execution_count": null,
      "metadata": {
        "execution": {
          "iopub.execute_input": "2021-03-17T01:37:22.681762Z",
          "iopub.status.busy": "2021-03-17T01:37:22.681101Z",
          "iopub.status.idle": "2021-03-17T01:37:35.776392Z",
          "shell.execute_reply": "2021-03-17T01:37:35.775832Z"
        },
        "papermill": {
          "duration": 13.12585,
          "end_time": "2021-03-17T01:37:35.776550",
          "exception": false,
          "start_time": "2021-03-17T01:37:22.650700",
          "status": "completed"
        },
        "tags": [],
        "colab": {
          "base_uri": "https://localhost:8080/"
        },
        "id": "k7I7Esj-VK-N",
        "outputId": "570c0665-910c-4424-867d-48f1164f110f"
      },
      "outputs": [
        {
          "output_type": "stream",
          "name": "stdout",
          "text": [
            "|   iter    |  target   | colsam... | lambda_l1 | lambda_l2 | learni... | max_depth | min_ch... | n_esti... | num_le... | subsample |\n",
            "-------------------------------------------------------------------------------------------------------------------------------------\n",
            "| \u001b[0m1        \u001b[0m | \u001b[0m0.9418   \u001b[0m | \u001b[0m0.7043   \u001b[0m | \u001b[0m3.602    \u001b[0m | \u001b[0m0.0003431\u001b[0m | \u001b[0m0.09768  \u001b[0m | \u001b[0m11.6     \u001b[0m | \u001b[0m6.432    \u001b[0m | \u001b[0m133.8    \u001b[0m | \u001b[0m47.64    \u001b[0m | \u001b[0m0.7397   \u001b[0m |\n",
            "| \u001b[0m2        \u001b[0m | \u001b[0m0.9401   \u001b[0m | \u001b[0m0.764    \u001b[0m | \u001b[0m2.096    \u001b[0m | \u001b[0m2.056    \u001b[0m | \u001b[0m0.06929  \u001b[0m | \u001b[0m44.52    \u001b[0m | \u001b[0m3.315    \u001b[0m | \u001b[0m351.7    \u001b[0m | \u001b[0m53.38    \u001b[0m | \u001b[0m0.7559   \u001b[0m |\n",
            "| \u001b[0m3        \u001b[0m | \u001b[0m0.9366   \u001b[0m | \u001b[0m0.5688   \u001b[0m | \u001b[0m0.9905   \u001b[0m | \u001b[0m2.402    \u001b[0m | \u001b[0m0.2908   \u001b[0m | \u001b[0m19.1     \u001b[0m | \u001b[0m35.23    \u001b[0m | \u001b[0m444.4    \u001b[0m | \u001b[0m91.57    \u001b[0m | \u001b[0m0.7085   \u001b[0m |\n",
            "| \u001b[0m4        \u001b[0m | \u001b[0m0.9281   \u001b[0m | \u001b[0m0.5191   \u001b[0m | \u001b[0m0.8492   \u001b[0m | \u001b[0m2.634    \u001b[0m | \u001b[0m0.03852  \u001b[0m | \u001b[0m23.95    \u001b[0m | \u001b[0m47.98    \u001b[0m | \u001b[0m289.9    \u001b[0m | \u001b[0m75.35    \u001b[0m | \u001b[0m0.7316   \u001b[0m |\n",
            "| \u001b[0m5        \u001b[0m | \u001b[0m0.9367   \u001b[0m | \u001b[0m0.8364   \u001b[0m | \u001b[0m4.173    \u001b[0m | \u001b[0m0.05486  \u001b[0m | \u001b[0m0.2275   \u001b[0m | \u001b[0m49.5     \u001b[0m | \u001b[0m37.91    \u001b[0m | \u001b[0m176.2    \u001b[0m | \u001b[0m83.14    \u001b[0m | \u001b[0m0.7103   \u001b[0m |\n",
            "| \u001b[0m6        \u001b[0m | \u001b[0m0.9357   \u001b[0m | \u001b[0m0.6843   \u001b[0m | \u001b[0m3.497    \u001b[0m | \u001b[0m0.9324   \u001b[0m | \u001b[0m0.2973   \u001b[0m | \u001b[0m8.759    \u001b[0m | \u001b[0m4.318    \u001b[0m | \u001b[0m135.0    \u001b[0m | \u001b[0m42.07    \u001b[0m | \u001b[0m0.707    \u001b[0m |\n",
            "| \u001b[0m7        \u001b[0m | \u001b[0m0.9388   \u001b[0m | \u001b[0m0.5797   \u001b[0m | \u001b[0m2.022    \u001b[0m | \u001b[0m1.013    \u001b[0m | \u001b[0m0.09415  \u001b[0m | \u001b[0m19.66    \u001b[0m | \u001b[0m36.12    \u001b[0m | \u001b[0m444.1    \u001b[0m | \u001b[0m91.47    \u001b[0m | \u001b[0m0.7653   \u001b[0m |\n",
            "| \u001b[0m8        \u001b[0m | \u001b[0m0.941    \u001b[0m | \u001b[0m0.6511   \u001b[0m | \u001b[0m4.038    \u001b[0m | \u001b[0m1.491    \u001b[0m | \u001b[0m0.1441   \u001b[0m | \u001b[0m5.631    \u001b[0m | \u001b[0m5.997    \u001b[0m | \u001b[0m132.5    \u001b[0m | \u001b[0m51.99    \u001b[0m | \u001b[0m0.7104   \u001b[0m |\n",
            "| \u001b[0m9        \u001b[0m | \u001b[0m0.9392   \u001b[0m | \u001b[0m0.7553   \u001b[0m | \u001b[0m0.9456   \u001b[0m | \u001b[0m2.573    \u001b[0m | \u001b[0m0.02775  \u001b[0m | \u001b[0m12.57    \u001b[0m | \u001b[0m7.478    \u001b[0m | \u001b[0m127.7    \u001b[0m | \u001b[0m50.33    \u001b[0m | \u001b[0m0.7573   \u001b[0m |\n",
            "| \u001b[0m10       \u001b[0m | \u001b[0m0.9395   \u001b[0m | \u001b[0m0.8912   \u001b[0m | \u001b[0m4.809    \u001b[0m | \u001b[0m2.004    \u001b[0m | \u001b[0m0.03557  \u001b[0m | \u001b[0m16.91    \u001b[0m | \u001b[0m8.162    \u001b[0m | \u001b[0m136.8    \u001b[0m | \u001b[0m55.41    \u001b[0m | \u001b[0m0.7847   \u001b[0m |\n",
            "=====================================================================================================================================\n"
          ]
        }
      ],
      "source": [
        "# Search for best param on Training Set\n",
        "best_params = search_best_param(train_X,train_y,cat_features)"
      ]
    },
    {
      "cell_type": "code",
      "execution_count": null,
      "metadata": {
        "execution": {
          "iopub.execute_input": "2021-03-17T01:37:35.840626Z",
          "iopub.status.busy": "2021-03-17T01:37:35.839942Z",
          "iopub.status.idle": "2021-03-17T01:37:35.846026Z",
          "shell.execute_reply": "2021-03-17T01:37:35.845185Z"
        },
        "papermill": {
          "duration": 0.040371,
          "end_time": "2021-03-17T01:37:35.846206",
          "exception": false,
          "start_time": "2021-03-17T01:37:35.805835",
          "status": "completed"
        },
        "tags": [],
        "colab": {
          "base_uri": "https://localhost:8080/"
        },
        "id": "VLWyBifFVK-O",
        "outputId": "4014d37e-bebb-4442-da06-8f44c67f598c"
      },
      "outputs": [
        {
          "output_type": "stream",
          "name": "stdout",
          "text": [
            "colsample_bytree  :  0.7043407823042612\n",
            "lambda_l1  :  3.6016224672107904\n",
            "lambda_l2  :  0.0003431244520346599\n",
            "learning_rate  :  0.09767644606323352\n",
            "max_depth  :  12\n",
            "min_child_weight  :  6.432252548902294\n",
            "n_estimators  :  134\n",
            "num_leaves  :  48\n",
            "subsample  :  0.739676747423067\n",
            "verbose  :  -1\n",
            "metric  :  auc\n",
            "boosting_type  :  gbdt\n",
            "objective  :  binary\n",
            "seed  :  1\n"
          ]
        }
      ],
      "source": [
        "# Print best_params\n",
        "for key, value in best_params.items():\n",
        "    print(key, ' : ', value)"
      ]
    },
    {
      "cell_type": "markdown",
      "metadata": {
        "papermill": {
          "duration": 0.029484,
          "end_time": "2021-03-17T01:37:35.905458",
          "exception": false,
          "start_time": "2021-03-17T01:37:35.875974",
          "status": "completed"
        },
        "tags": [],
        "id": "mbBKSQXbVK-O"
      },
      "source": [
        "<a id=\"Tuning-LightGBM\"></a>\n",
        "## Tuning LightGBM"
      ]
    },
    {
      "cell_type": "code",
      "execution_count": null,
      "metadata": {
        "execution": {
          "iopub.execute_input": "2021-03-17T01:37:35.972972Z",
          "iopub.status.busy": "2021-03-17T01:37:35.971929Z",
          "iopub.status.idle": "2021-03-17T01:37:36.315547Z",
          "shell.execute_reply": "2021-03-17T01:37:36.316234Z"
        },
        "papermill": {
          "duration": 0.381604,
          "end_time": "2021-03-17T01:37:36.316456",
          "exception": false,
          "start_time": "2021-03-17T01:37:35.934852",
          "status": "completed"
        },
        "tags": [],
        "colab": {
          "base_uri": "https://localhost:8080/"
        },
        "id": "A7SVF_z1VK-O",
        "outputId": "d84118a4-91a4-42f1-e524-43ea90092dae"
      },
      "outputs": [
        {
          "output_type": "stream",
          "name": "stdout",
          "text": [
            "Training until validation scores don't improve for 100 rounds\n",
            "[25]\tvalid_0's auc: 0.938895\n",
            "[50]\tvalid_0's auc: 0.942975\n",
            "[75]\tvalid_0's auc: 0.945902\n",
            "[100]\tvalid_0's auc: 0.947658\n",
            "[125]\tvalid_0's auc: 0.948537\n",
            "Did not meet early stopping. Best iteration is:\n",
            "[124]\tvalid_0's auc: 0.948554\n"
          ]
        }
      ],
      "source": [
        "# Train lgbm_best using the best params found from Bayesian Optimization\n",
        "lgbm_best = lgb.train(best_params,\n",
        "                 train_lgbdata,\n",
        "                 num_boost_round = 100,\n",
        "                 valid_sets = test_lgbdata,\n",
        "                 early_stopping_rounds = 100,\n",
        "                 verbose_eval = 25\n",
        "                 )"
      ]
    },
    {
      "cell_type": "markdown",
      "metadata": {
        "papermill": {
          "duration": 0.030728,
          "end_time": "2021-03-17T01:37:36.377854",
          "exception": false,
          "start_time": "2021-03-17T01:37:36.347126",
          "status": "completed"
        },
        "tags": [],
        "id": "X-lSA1t7VK-O"
      },
      "source": [
        "<a id=\"Feature-Importance \"></a>\n",
        "## Feature Importance "
      ]
    },
    {
      "cell_type": "code",
      "execution_count": null,
      "metadata": {
        "execution": {
          "iopub.execute_input": "2021-03-17T01:37:36.466930Z",
          "iopub.status.busy": "2021-03-17T01:37:36.464085Z",
          "iopub.status.idle": "2021-03-17T01:37:36.765705Z",
          "shell.execute_reply": "2021-03-17T01:37:36.765023Z"
        },
        "papermill": {
          "duration": 0.356114,
          "end_time": "2021-03-17T01:37:36.765851",
          "exception": false,
          "start_time": "2021-03-17T01:37:36.409737",
          "status": "completed"
        },
        "tags": [],
        "colab": {
          "base_uri": "https://localhost:8080/",
          "height": 933
        },
        "id": "XFAnAtotVK-P",
        "outputId": "33b51375-0749-4a1a-b0e5-7c118dd855f3"
      },
      "outputs": [
        {
          "output_type": "execute_result",
          "data": {
            "text/plain": [
              "<Axes: title={'center': 'Feature importance'}, xlabel='Feature importance', ylabel='Features'>"
            ]
          },
          "metadata": {},
          "execution_count": 18
        },
        {
          "output_type": "display_data",
          "data": {
            "text/plain": [
              "<Figure size 2500x2000 with 1 Axes>"
            ],
            "image/png": "[encoded data removed]"
          },
          "metadata": {}
        }
      ],
      "source": [
        "##% Feature Importance \n",
        "# https://scikit-learn.org/stable/auto_examples/ensemble/plot_forest_importances.html\n",
        "lgb.plot_importance(lgbm_best,figsize=(25,20),max_num_features = 10)"
      ]
    },
    {
      "cell_type": "code",
      "execution_count": null,
      "metadata": {
        "execution": {
          "iopub.execute_input": "2021-03-17T01:37:36.838562Z",
          "iopub.status.busy": "2021-03-17T01:37:36.837649Z",
          "iopub.status.idle": "2021-03-17T01:37:37.412268Z",
          "shell.execute_reply": "2021-03-17T01:37:37.411665Z"
        },
        "papermill": {
          "duration": 0.612743,
          "end_time": "2021-03-17T01:37:37.412403",
          "exception": false,
          "start_time": "2021-03-17T01:37:36.799660",
          "status": "completed"
        },
        "tags": [],
        "colab": {
          "base_uri": "https://localhost:8080/",
          "height": 957
        },
        "id": "rRa05zPBVK-P",
        "outputId": "e3e59718-e3bb-442d-f5ce-5d4bf788b118"
      },
      "outputs": [
        {
          "output_type": "display_data",
          "data": {
            "text/plain": [
              "<Figure size 800x950 with 1 Axes>"
            ],
            "image/png": "[encoded data removed]"
          },
          "metadata": {}
        }
      ],
      "source": [
        "##% Feature Importance using shap package \n",
        "# import shap\n",
        "shap_values = shap.TreeExplainer(lgbm_best).shap_values(valid_X)\n",
        "shap.summary_plot(shap_values, valid_X)"
      ]
    },
    {
      "cell_type": "code",
      "source": [
        "train_X.head()"
      ],
      "metadata": {
        "colab": {
          "base_uri": "https://localhost:8080/",
          "height": 299
        },
        "id": "7vGB1FQWiP1r",
        "outputId": "70e980a7-a976-4ace-913f-f1bf4665ce69"
      },
      "execution_count": null,
      "outputs": [
        {
          "output_type": "execute_result",
          "data": {
            "text/plain": [
              "            X1        X2        X3        X4        X5        X6        X7  \\\n",
              "5557  0.446400  0.480975  0.487767  0.607374  0.607497  0.998941  0.797153   \n",
              "4839  0.510213  0.568415  0.556400  0.607316  0.607295  0.999025  0.797792   \n",
              "6283  0.555989  0.587604  0.598747  0.610631  0.610631  0.999124  0.797564   \n",
              "4387  0.377614  0.423953  0.417421  0.596153  0.596521  0.998812  0.796982   \n",
              "6254  0.451129  0.501799  0.494405  0.607619  0.607619  0.999070  0.797280   \n",
              "\n",
              "            X8        X9       X10  ...  X85       X86       X87       X88  \\\n",
              "5557  0.809093  0.303169  0.781336  ...    0  0.762124  0.000600  0.623910   \n",
              "4839  0.809607  0.304110  0.781883  ...    0  0.816127  0.003316  0.624539   \n",
              "6283  0.809446  0.303504  0.781756  ...    0  0.826592  0.002296  0.624415   \n",
              "4387  0.808924  0.303142  0.781173  ...    0  0.729441  0.002758  0.623922   \n",
              "6254  0.809187  0.303122  0.781457  ...    0  0.778362  0.002582  0.624549   \n",
              "\n",
              "           X89       X90       X91       X92       X93       X95  \n",
              "5557  0.607374  0.836488  0.283202  0.026665  0.564474  0.021593  \n",
              "4839  0.607317  0.841214  0.276450  0.026800  0.565199  0.064953  \n",
              "6283  0.610631  0.842167  0.278067  0.026833  0.565350  0.038828  \n",
              "4387  0.596148  0.835453  0.278006  0.026768  0.565045  0.039345  \n",
              "6254  0.607619  0.839168  0.275215  0.026791  0.565158  0.191443  \n",
              "\n",
              "[5 rows x 94 columns]"
            ],
            "text/html": [
              "\n",
              "  <div id=\"df-d3c01605-f6b3-415d-bf2a-aa9f7cfdb8d2\">\n",
              "    <div class=\"colab-df-container\">\n",
              "      <div>\n",
              "<style scoped>\n",
              "    .dataframe tbody tr th:only-of-type {\n",
              "        vertical-align: middle;\n",
              "    }\n",
              "\n",
              "    .dataframe tbody tr th {\n",
              "        vertical-align: top;\n",
              "    }\n",
              "\n",
              "    .dataframe thead th {\n",
              "        text-align: right;\n",
              "    }\n",
              "</style>\n",
              "<table border=\"1\" class=\"dataframe\">\n",
              "  <thead>\n",
              "    <tr style=\"text-align: right;\">\n",
              "      <th></th>\n",
              "      <th>X1</th>\n",
              "      <th>X2</th>\n",
              "      <th>X3</th>\n",
              "      <th>X4</th>\n",
              "      <th>X5</th>\n",
              "      <th>X6</th>\n",
              "      <th>X7</th>\n",
              "      <th>X8</th>\n",
              "      <th>X9</th>\n",
              "      <th>X10</th>\n",
              "      <th>...</th>\n",
              "      <th>X85</th>\n",
              "      <th>X86</th>\n",
              "      <th>X87</th>\n",
              "      <th>X88</th>\n",
              "      <th>X89</th>\n",
              "      <th>X90</th>\n",
              "      <th>X91</th>\n",
              "      <th>X92</th>\n",
              "      <th>X93</th>\n",
              "      <th>X95</th>\n",
              "    </tr>\n",
              "  </thead>\n",
              "  <tbody>\n",
              "    <tr>\n",
              "      <th>5557</th>\n",
              "      <td>0.446400</td>\n",
              "      <td>0.480975</td>\n",
              "      <td>0.487767</td>\n",
              "      <td>0.607374</td>\n",
              "      <td>0.607497</td>\n",
              "      <td>0.998941</td>\n",
              "      <td>0.797153</td>\n",
              "      <td>0.809093</td>\n",
              "      <td>0.303169</td>\n",
              "      <td>0.781336</td>\n",
              "      <td>...</td>\n",
              "      <td>0</td>\n",
              "      <td>0.762124</td>\n",
              "      <td>0.000600</td>\n",
              "      <td>0.623910</td>\n",
              "      <td>0.607374</td>\n",
              "      <td>0.836488</td>\n",
              "      <td>0.283202</td>\n",
              "      <td>0.026665</td>\n",
              "      <td>0.564474</td>\n",
              "      <td>0.021593</td>\n",
              "    </tr>\n",
              "    <tr>\n",
              "      <th>4839</th>\n",
              "      <td>0.510213</td>\n",
              "      <td>0.568415</td>\n",
              "      <td>0.556400</td>\n",
              "      <td>0.607316</td>\n",
              "      <td>0.607295</td>\n",
              "      <td>0.999025</td>\n",
              "      <td>0.797792</td>\n",
              "      <td>0.809607</td>\n",
              "      <td>0.304110</td>\n",
              "      <td>0.781883</td>\n",
              "      <td>...</td>\n",
              "      <td>0</td>\n",
              "      <td>0.816127</td>\n",
              "      <td>0.003316</td>\n",
              "      <td>0.624539</td>\n",
              "      <td>0.607317</td>\n",
              "      <td>0.841214</td>\n",
              "      <td>0.276450</td>\n",
              "      <td>0.026800</td>\n",
              "      <td>0.565199</td>\n",
              "      <td>0.064953</td>\n",
              "    </tr>\n",
              "    <tr>\n",
              "      <th>6283</th>\n",
              "      <td>0.555989</td>\n",
              "      <td>0.587604</td>\n",
              "      <td>0.598747</td>\n",
              "      <td>0.610631</td>\n",
              "      <td>0.610631</td>\n",
              "      <td>0.999124</td>\n",
              "      <td>0.797564</td>\n",
              "      <td>0.809446</td>\n",
              "      <td>0.303504</td>\n",
              "      <td>0.781756</td>\n",
              "      <td>...</td>\n",
              "      <td>0</td>\n",
              "      <td>0.826592</td>\n",
              "      <td>0.002296</td>\n",
              "      <td>0.624415</td>\n",
              "      <td>0.610631</td>\n",
              "      <td>0.842167</td>\n",
              "      <td>0.278067</td>\n",
              "      <td>0.026833</td>\n",
              "      <td>0.565350</td>\n",
              "      <td>0.038828</td>\n",
              "    </tr>\n",
              "    <tr>\n",
              "      <th>4387</th>\n",
              "      <td>0.377614</td>\n",
              "      <td>0.423953</td>\n",
              "      <td>0.417421</td>\n",
              "      <td>0.596153</td>\n",
              "      <td>0.596521</td>\n",
              "      <td>0.998812</td>\n",
              "      <td>0.796982</td>\n",
              "      <td>0.808924</td>\n",
              "      <td>0.303142</td>\n",
              "      <td>0.781173</td>\n",
              "      <td>...</td>\n",
              "      <td>0</td>\n",
              "      <td>0.729441</td>\n",
              "      <td>0.002758</td>\n",
              "      <td>0.623922</td>\n",
              "      <td>0.596148</td>\n",
              "      <td>0.835453</td>\n",
              "      <td>0.278006</td>\n",
              "      <td>0.026768</td>\n",
              "      <td>0.565045</td>\n",
              "      <td>0.039345</td>\n",
              "    </tr>\n",
              "    <tr>\n",
              "      <th>6254</th>\n",
              "      <td>0.451129</td>\n",
              "      <td>0.501799</td>\n",
              "      <td>0.494405</td>\n",
              "      <td>0.607619</td>\n",
              "      <td>0.607619</td>\n",
              "      <td>0.999070</td>\n",
              "      <td>0.797280</td>\n",
              "      <td>0.809187</td>\n",
              "      <td>0.303122</td>\n",
              "      <td>0.781457</td>\n",
              "      <td>...</td>\n",
              "      <td>0</td>\n",
              "      <td>0.778362</td>\n",
              "      <td>0.002582</td>\n",
              "      <td>0.624549</td>\n",
              "      <td>0.607619</td>\n",
              "      <td>0.839168</td>\n",
              "      <td>0.275215</td>\n",
              "      <td>0.026791</td>\n",
              "      <td>0.565158</td>\n",
              "      <td>0.191443</td>\n",
              "    </tr>\n",
              "  </tbody>\n",
              "</table>\n",
              "<p>5 rows × 94 columns</p>\n",
              "</div>\n",
              "      <button class=\"colab-df-convert\" onclick=\"convertToInteractive('df-d3c01605-f6b3-415d-bf2a-aa9f7cfdb8d2')\"\n",
              "              title=\"Convert this dataframe to an interactive table.\"\n",
              "              style=\"display:none;\">\n",
              "        \n",
              "  <svg xmlns=\"http://www.w3.org/2000/svg\" height=\"24px\"viewBox=\"0 0 24 24\"\n",
              "       width=\"24px\">\n",
              "    <path d=\"M0 0h24v24H0V0z\" fill=\"none\"/>\n",
              "    <path d=\"M18.56 5.44l.94 2.06.94-2.06 2.06-.94-2.06-.94-.94-2.06-.94 2.06-2.06.94zm-11 1L8.5 8.5l.94-2.06 2.06-.94-2.06-.94L8.5 2.5l-.94 2.06-2.06.94zm10 10l.94 2.06.94-2.06 2.06-.94-2.06-.94-.94-2.06-.94 2.06-2.06.94z\"/><path d=\"M17.41 7.96l-1.37-1.37c-.4-.4-.92-.59-1.43-.59-.52 0-1.04.2-1.43.59L10.3 9.45l-7.72 7.72c-.78.78-.78 2.05 0 2.83L4 21.41c.39.39.9.59 1.41.59.51 0 1.02-.2 1.41-.59l7.78-7.78 2.81-2.81c.8-.78.8-2.07 0-2.86zM5.41 20L4 18.59l7.72-7.72 1.47 1.35L5.41 20z\"/>\n",
              "  </svg>\n",
              "      </button>\n",
              "      \n",
              "  <style>\n",
              "    .colab-df-container {\n",
              "      display:flex;\n",
              "      flex-wrap:wrap;\n",
              "      gap: 12px;\n",
              "    }\n",
              "\n",
              "    .colab-df-convert {\n",
              "      background-color: #E8F0FE;\n",
              "      border: none;\n",
              "      border-radius: 50%;\n",
              "      cursor: pointer;\n",
              "      display: none;\n",
              "      fill: #1967D2;\n",
              "      height: 32px;\n",
              "      padding: 0 0 0 0;\n",
              "      width: 32px;\n",
              "    }\n",
              "\n",
              "    .colab-df-convert:hover {\n",
              "      background-color: #E2EBFA;\n",
              "      box-shadow: 0px 1px 2px rgba(60, 64, 67, 0.3), 0px 1px 3px 1px rgba(60, 64, 67, 0.15);\n",
              "      fill: #174EA6;\n",
              "    }\n",
              "\n",
              "    [theme=dark] .colab-df-convert {\n",
              "      background-color: #3B4455;\n",
              "      fill: #D2E3FC;\n",
              "    }\n",
              "\n",
              "    [theme=dark] .colab-df-convert:hover {\n",
              "      background-color: #434B5C;\n",
              "      box-shadow: 0px 1px 3px 1px rgba(0, 0, 0, 0.15);\n",
              "      filter: drop-shadow(0px 1px 2px rgba(0, 0, 0, 0.3));\n",
              "      fill: #FFFFFF;\n",
              "    }\n",
              "  </style>\n",
              "\n",
              "      <script>\n",
              "        const buttonEl =\n",
              "          document.querySelector('#df-d3c01605-f6b3-415d-bf2a-aa9f7cfdb8d2 button.colab-df-convert');\n",
              "        buttonEl.style.display =\n",
              "          google.colab.kernel.accessAllowed ? 'block' : 'none';\n",
              "\n",
              "        async function convertToInteractive(key) {\n",
              "          const element = document.querySelector('#df-d3c01605-f6b3-415d-bf2a-aa9f7cfdb8d2');\n",
              "          const dataTable =\n",
              "            await google.colab.kernel.invokeFunction('convertToInteractive',\n",
              "                                                     [key], {});\n",
              "          if (!dataTable) return;\n",
              "\n",
              "          const docLinkHtml = 'Like what you see? Visit the ' +\n",
              "            '<a target=\"_blank\" href=https://colab.research.google.com/notebooks/data_table.ipynb>data table notebook</a>'\n",
              "            + ' to learn more about interactive tables.';\n",
              "          element.innerHTML = '';\n",
              "          dataTable['output_type'] = 'display_data';\n",
              "          await google.colab.output.renderOutput(dataTable, element);\n",
              "          const docLink = document.createElement('div');\n",
              "          docLink.innerHTML = docLinkHtml;\n",
              "          element.appendChild(docLink);\n",
              "        }\n",
              "      </script>\n",
              "    </div>\n",
              "  </div>\n",
              "  "
            ]
          },
          "metadata": {},
          "execution_count": 25
        }
      ]
    },
    {
      "cell_type": "markdown",
      "metadata": {
        "papermill": {
          "duration": 0.032333,
          "end_time": "2021-03-17T01:37:37.477282",
          "exception": false,
          "start_time": "2021-03-17T01:37:37.444949",
          "status": "completed"
        },
        "tags": [],
        "id": "7Yh7pT98VK-P"
      },
      "source": [
        "<a id=\"LightGBM-Model-Peformance \"></a>\n",
        "# LightGBM Model Peformance "
      ]
    },
    {
      "cell_type": "markdown",
      "metadata": {
        "papermill": {
          "duration": 0.032274,
          "end_time": "2021-03-17T01:37:37.542692",
          "exception": false,
          "start_time": "2021-03-17T01:37:37.510418",
          "status": "completed"
        },
        "tags": [],
        "id": "8ZB4XWtxVK-P"
      },
      "source": [
        "<a id=\"ROC-Curve\"></a>\n",
        "## ROC Curve"
      ]
    },
    {
      "cell_type": "code",
      "execution_count": null,
      "metadata": {
        "execution": {
          "iopub.execute_input": "2021-03-17T01:37:37.617268Z",
          "iopub.status.busy": "2021-03-17T01:37:37.616256Z",
          "iopub.status.idle": "2021-03-17T01:37:37.780365Z",
          "shell.execute_reply": "2021-03-17T01:37:37.779851Z"
        },
        "papermill": {
          "duration": 0.205084,
          "end_time": "2021-03-17T01:37:37.780507",
          "exception": false,
          "start_time": "2021-03-17T01:37:37.575423",
          "status": "completed"
        },
        "tags": [],
        "colab": {
          "base_uri": "https://localhost:8080/",
          "height": 472
        },
        "id": "QGXRp6GuVK-P",
        "outputId": "757dd9c4-647a-471a-cef5-35aae8ac8c8c"
      },
      "outputs": [
        {
          "output_type": "display_data",
          "data": {
            "text/plain": [
              "<Figure size 640x480 with 1 Axes>"
            ],
            "image/png": "[encoded data removed]"
          },
          "metadata": {}
        }
      ],
      "source": [
        "#  ROC Curve for training/validation data\n",
        "# https://scikit-learn.org/stable/auto_examples/model_selection/plot_roc.html#sphx-glr-auto-examples-model-selection-plot-roc-py\n",
        "# from sklearn.metrics import roc_curve, auc\n",
        "\n",
        "y_probas = lgbm_best.predict(valid_X) \n",
        "\n",
        "fpr, tpr, _ = roc_curve(valid_y, y_probas)\n",
        "roc_auc = auc(fpr, tpr)\n",
        "\n",
        "plt.figure()\n",
        "lw = 2\n",
        "plt.plot(fpr, tpr, color='darkorange',\n",
        "         lw=lw, label='ROC curve (area = %0.4f)' % roc_auc)\n",
        "plt.plot([0, 1], [0, 1], color='navy', lw=lw, linestyle='--')\n",
        "plt.xlim([0.0, 1.0])\n",
        "plt.ylim([0.0, 1.05])\n",
        "plt.xlabel('False Positive Rate')\n",
        "plt.ylabel('True Positive Rate')\n",
        "plt.title('Receiver operating characteristic for training data')\n",
        "plt.legend(loc=\"lower right\")\n",
        "plt.show()"
      ]
    },
    {
      "cell_type": "code",
      "execution_count": null,
      "metadata": {
        "execution": {
          "iopub.execute_input": "2021-03-17T01:37:37.857335Z",
          "iopub.status.busy": "2021-03-17T01:37:37.856293Z",
          "iopub.status.idle": "2021-03-17T01:37:38.080663Z",
          "shell.execute_reply": "2021-03-17T01:37:38.079944Z"
        },
        "papermill": {
          "duration": 0.266195,
          "end_time": "2021-03-17T01:37:38.080821",
          "exception": false,
          "start_time": "2021-03-17T01:37:37.814626",
          "status": "completed"
        },
        "tags": [],
        "colab": {
          "base_uri": "https://localhost:8080/",
          "height": 466
        },
        "id": "Nn3ZAptCVK-P",
        "outputId": "7b2325c6-679c-4dfd-e831-75aac0b9621a"
      },
      "outputs": [
        {
          "output_type": "stream",
          "name": "stdout",
          "text": [
            "Best Threshold=0.021877, G-Mean=0.893\n"
          ]
        },
        {
          "output_type": "display_data",
          "data": {
            "text/plain": [
              "<Figure size 640x480 with 1 Axes>"
            ],
            "image/png": "[encoded data removed]"
          },
          "metadata": {}
        }
      ],
      "source": [
        "#  Plot ROC curve and find best threshold to binarize the predictions from LGBM\n",
        "# https://machinelearningmastery.com/threshold-moving-for-imbalanced-classification/\n",
        "pred_y = lgbm_best.predict(valid_X)\n",
        "# calculate roc curves\n",
        "fpr, tpr, thresholds = roc_curve(valid_y, pred_y)\n",
        "# calculate the g-mean for each threshold\n",
        "gmeans = np.sqrt(tpr * (1-fpr))\n",
        "# locate the index of the largest g-mean\n",
        "ix = np.argmax(gmeans)\n",
        "print('Best Threshold=%f, G-Mean=%.3f' % (thresholds[ix], gmeans[ix]))\n",
        "# plot the roc curve for the model\n",
        "pyplot.figure(num=0, figsize=[6.4, 4.8])\n",
        "pyplot.plot([0,1], [0,1], linestyle='--', label='No Skill')\n",
        "pyplot.plot(fpr, tpr, marker='.', label='LightGBM')\n",
        "pyplot.scatter(fpr[ix], tpr[ix], marker='o', color='black', label='Best')\n",
        "# axis labels\n",
        "pyplot.xlabel('False Positive Rate')\n",
        "pyplot.ylabel('True Positive Rate')\n",
        "pyplot.legend()\n",
        "# show the plot\n",
        "pyplot.show()"
      ]
    },
    {
      "cell_type": "code",
      "source": [
        "import pickle\n",
        "\n",
        "\n",
        "\n",
        "\n",
        "# save the trained model as a pickle file\n",
        "with open('lgbm_best.pkl', 'wb') as file:\n",
        "    pickle.dump(lgbm_best, file)\n",
        "\n"
      ],
      "metadata": {
        "id": "aa0aKn51oaj0"
      },
      "execution_count": null,
      "outputs": []
    },
    {
      "cell_type": "code",
      "source": [
        "# load the saved model from the pickle file\n",
        "with open('lgbm_best.pkl', 'rb') as file:\n",
        "    lgbm_best = pickle.load(file)\n"
      ],
      "metadata": {
        "id": "haueBDQGok-H"
      },
      "execution_count": null,
      "outputs": []
    },
    {
      "cell_type": "markdown",
      "metadata": {
        "papermill": {
          "duration": 0.035103,
          "end_time": "2021-03-17T01:37:38.151669",
          "exception": false,
          "start_time": "2021-03-17T01:37:38.116566",
          "status": "completed"
        },
        "tags": [],
        "id": "PX3SPZ6fVK-Q"
      },
      "source": [
        "<a id=\"Confusion-Matrix\"></a>\n",
        "## Confusion Matrix"
      ]
    },
    {
      "cell_type": "code",
      "execution_count": null,
      "metadata": {
        "_kg_hide-input": true,
        "execution": {
          "iopub.execute_input": "2021-03-17T01:37:38.240549Z",
          "iopub.status.busy": "2021-03-17T01:37:38.239907Z",
          "iopub.status.idle": "2021-03-17T01:37:38.242876Z",
          "shell.execute_reply": "2021-03-17T01:37:38.242197Z"
        },
        "papermill": {
          "duration": 0.053153,
          "end_time": "2021-03-17T01:37:38.243028",
          "exception": false,
          "start_time": "2021-03-17T01:37:38.189875",
          "status": "completed"
        },
        "tags": [],
        "id": "NYJYAfWvVK-Q"
      },
      "outputs": [],
      "source": [
        "# Great Function found on Kaggle for plotting a Confusion Matrix\n",
        "# https://www.kaggle.com/grfiv4/plot-a-confusion-matrix\n",
        "def plot_confusion_matrix_kaggle(cm,\n",
        "                          target_names,\n",
        "                          title='Confusion matrix',\n",
        "                          cmap=None,\n",
        "                          normalize=True):\n",
        "    \"\"\"\n",
        "    given a sklearn confusion matrix (cm), make a nice plot\n",
        "\n",
        "    Arguments\n",
        "    ---------\n",
        "    cm:           confusion matrix from sklearn.metrics.confusion_matrix\n",
        "\n",
        "    target_names: given classification classes such as [0, 1, 2]\n",
        "                  the class names, for example: ['high', 'medium', 'low']\n",
        "\n",
        "    title:        the text to display at the top of the matrix\n",
        "\n",
        "    cmap:         the gradient of the values displayed from matplotlib.pyplot.cm\n",
        "                  see http://matplotlib.org/examples/color/colormaps_reference.html\n",
        "                  plt.get_cmap('jet') or plt.cm.Blues\n",
        "\n",
        "    normalize:    If False, plot the raw numbers\n",
        "                  If True, plot the proportions\n",
        "\n",
        "    Usage\n",
        "    -----\n",
        "    plot_confusion_matrix(cm           = cm,                  # confusion matrix created by\n",
        "                                                              # sklearn.metrics.confusion_matrix\n",
        "                          normalize    = True,                # show proportions\n",
        "                          target_names = y_labels_vals,       # list of names of the classes\n",
        "                          title        = best_estimator_name) # title of graph\n",
        "\n",
        "    Citiation\n",
        "    ---------\n",
        "    http://scikit-learn.org/stable/auto_examples/model_selection/plot_confusion_matrix.html\n",
        "\n",
        "    \"\"\"\n",
        "    import matplotlib.pyplot as plt\n",
        "    import numpy as np\n",
        "    import itertools\n",
        "\n",
        "    accuracy = np.trace(cm) / float(np.sum(cm))\n",
        "    misclass = 1 - accuracy\n",
        "\n",
        "    if cmap is None:\n",
        "        cmap = plt.get_cmap('Blues')\n",
        "\n",
        "    plt.figure(figsize=(8, 6))\n",
        "    plt.imshow(cm, interpolation='nearest', cmap=cmap)\n",
        "    plt.title(title)\n",
        "    plt.colorbar()\n",
        "\n",
        "    if target_names is not None:\n",
        "        tick_marks = np.arange(len(target_names))\n",
        "        plt.xticks(tick_marks, target_names, rotation=45)\n",
        "        plt.yticks(tick_marks, target_names)\n",
        "\n",
        "    if normalize:\n",
        "        cm = cm.astype('float') / cm.sum(axis=1)[:, np.newaxis]\n",
        "\n",
        "\n",
        "    thresh = cm.max() / 1.5 if normalize else cm.max() / 2\n",
        "    for i, j in itertools.product(range(cm.shape[0]), range(cm.shape[1])):\n",
        "        if normalize:\n",
        "            plt.text(j, i, \"{:0.4f}\".format(cm[i, j]),\n",
        "                     horizontalalignment=\"center\",\n",
        "                     color=\"white\" if cm[i, j] > thresh else \"black\")\n",
        "        else:\n",
        "            plt.text(j, i, \"{:,}\".format(cm[i, j]),\n",
        "                     horizontalalignment=\"center\",\n",
        "                     color=\"white\" if cm[i, j] > thresh else \"black\")\n",
        "\n",
        "\n",
        "    plt.tight_layout()\n",
        "    plt.ylabel('True label')\n",
        "    plt.xlabel('Predicted label\\naccuracy={:0.4f}; misclass={:0.4f}'.format(accuracy, misclass))\n",
        "    plt.show()\n",
        "\n",
        "# binarize an array based of a threshold \n",
        "def binarizeArray(array,threshold = 0.5):\n",
        "    return [0 if num < threshold else 1 for num in array]"
      ]
    },
    {
      "cell_type": "code",
      "execution_count": null,
      "metadata": {
        "execution": {
          "iopub.execute_input": "2021-03-17T01:37:38.324735Z",
          "iopub.status.busy": "2021-03-17T01:37:38.324096Z",
          "iopub.status.idle": "2021-03-17T01:37:38.546702Z",
          "shell.execute_reply": "2021-03-17T01:37:38.546212Z"
        },
        "papermill": {
          "duration": 0.266829,
          "end_time": "2021-03-17T01:37:38.546849",
          "exception": false,
          "start_time": "2021-03-17T01:37:38.280020",
          "status": "completed"
        },
        "tags": [],
        "colab": {
          "base_uri": "https://localhost:8080/",
          "height": 833
        },
        "id": "Y2wBd4CvVK-Q",
        "outputId": "6166b18d-2e04-4869-faa6-24675e25a5fa"
      },
      "outputs": [
        {
          "output_type": "display_data",
          "data": {
            "text/plain": [
              "<Figure size 800x600 with 2 Axes>"
            ],
            "image/png": "[encoded data removed]"
          },
          "metadata": {}
        },
        {
          "output_type": "stream",
          "name": "stdout",
          "text": [
            "              precision    recall  f1-score   support\n",
            "\n",
            "           0       1.00      0.88      0.93      1320\n",
            "           1       0.20      0.91      0.32        44\n",
            "\n",
            "    accuracy                           0.88      1364\n",
            "   macro avg       0.60      0.89      0.63      1364\n",
            "weighted avg       0.97      0.88      0.91      1364\n",
            "\n",
            "Accuracy: 87.76%\n",
            "Recall: 90.91%\n"
          ]
        }
      ],
      "source": [
        "#  Plot Confusion Matrix with best threshold\n",
        "pref_y_bin = binarizeArray(pred_y,thresholds[ix])\n",
        "cm = confusion_matrix(valid_y,pref_y_bin)\n",
        "plot_confusion_matrix_kaggle(cm =cm, \n",
        "                      normalize    = False,\n",
        "                      target_names = ['Not Bankrupt(0)', 'Bankrupt(1)'],\n",
        "                      title        = \"Confusion Matrix\")\n",
        "print(classification_report(valid_y,pref_y_bin))\n",
        "print(\"Accuracy: %.2f%%\" % (accuracy_score(valid_y, pref_y_bin)*100.0))\n",
        "print(\"Recall: %.2f%%\" % ((recall_score(valid_y,pref_y_bin))*100.0))"
      ]
    }
  ],
  "metadata": {
    "kernelspec": {
      "display_name": "Python 3",
      "language": "python",
      "name": "python3"
    },
    "language_info": {
      "codemirror_mode": {
        "name": "ipython",
        "version": 3
      },
      "file_extension": ".py",
      "mimetype": "text/x-python",
      "name": "python",
      "nbconvert_exporter": "python",
      "pygments_lexer": "ipython3",
      "version": "3.7.9"
    },
    "papermill": {
      "default_parameters": {},
      "duration": 40.489113,
      "end_time": "2021-03-17T01:37:39.972574",
      "environment_variables": {},
      "exception": null,
      "input_path": "__notebook__.ipynb",
      "output_path": "__notebook__.ipynb",
      "parameters": {},
      "start_time": "2021-03-17T01:36:59.483461",
      "version": "2.2.2"
    },
    "colab": {
      "provenance": []
    },
    "gpuClass": "standard"
  },
  "nbformat": 4,
  "nbformat_minor": 0
}